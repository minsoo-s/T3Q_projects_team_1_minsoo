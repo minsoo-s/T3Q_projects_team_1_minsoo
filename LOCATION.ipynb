{
 "cells": [
  {
   "cell_type": "markdown",
   "metadata": {},
   "source": [
    "# 실시간 위치 좌표 얻기\n",
    "---\n",
    "- 출처: https://parkgihyeon.github.io/project/geocoding-api/"
   ]
  },
  {
   "cell_type": "code",
   "execution_count": 137,
   "metadata": {},
   "outputs": [
    {
     "name": "stdout",
     "output_type": "stream",
     "text": [
      "{'lat': '35.8723', 'lng': '128.5924'}\n"
     ]
    }
   ],
   "source": [
    "# 현재위치 좌표 얻기\n",
    "import requests, json\n",
    "\n",
    "def current_location():\n",
    "    here_req = requests.get(\"http://www.geoplugin.net/json.gp\")\n",
    "\n",
    "    if (here_req.status_code != 200):\n",
    "        print(\"현재좌표를 불러올 수 없음\")\n",
    "    else:\n",
    "        location = json.loads(here_req.text)\n",
    "        crd = {\"lat\": str(location[\"geoplugin_latitude\"]), \"lng\": str(location[\"geoplugin_longitude\"])}\n",
    "\n",
    "    return crd\n",
    "\n",
    "crd = current_location()\n",
    "print(crd)"
   ]
  },
  {
   "cell_type": "code",
   "execution_count": 123,
   "metadata": {},
   "outputs": [
    {
     "name": "stdout",
     "output_type": "stream",
     "text": [
      "경상감영1길, 중구, 대구, 41934, 대한민국\n"
     ]
    }
   ],
   "source": [
    "# 가입 없이 좌표->주소 변환\n",
    "from geopy.geocoders import Nominatim\n",
    "\n",
    "def geocoding_reverse(lat_lng_str): \n",
    "    geolocoder = Nominatim(user_agent = 'South Korea', timeout=None)\n",
    "    address = geolocoder.reverse(lat_lng_str)\n",
    "\n",
    "    return address\n",
    "\n",
    "address = geocoding_reverse('35.8723, 128.5924')\n",
    "print(address)"
   ]
  },
  {
   "cell_type": "code",
   "execution_count": 2,
   "metadata": {},
   "outputs": [
    {
     "name": "stdout",
     "output_type": "stream",
     "text": [
      "35.8968175\n",
      "128.6194541\n"
     ]
    }
   ],
   "source": [
    "# 가입 없이 주소->좌표 변환\n",
    "from geopy.geocoders import Nominatim\n",
    "\n",
    "def geocoding(address):\n",
    "    geolocoder = Nominatim(user_agent = 'South Korea', timeout=None)\n",
    "    geo = geolocoder.geocode(address)\n",
    "    crd = {\"lat\": str(geo.latitude), \"lng\": str(geo.longitude)}\n",
    "\n",
    "    return crd\n",
    "\n",
    "crd = geocoding(\"대구 복현동\")\n",
    "print(crd['lat'])\n",
    "print(crd['lng'])"
   ]
  },
  {
   "cell_type": "markdown",
   "metadata": {},
   "source": [
    "# 장소 마크 표시 및 개수 세기\n",
    "---- \n",
    "참고:https://haries.tistory.com/6"
   ]
  },
  {
   "cell_type": "markdown",
   "metadata": {},
   "source": [
    "# streamlit yolov5 \n",
    "---\n",
    "참고 : https://github.com/xugaoxiang/yolov5-streamlit"
   ]
  },
  {
   "cell_type": "markdown",
   "metadata": {},
   "source": [
    "# streamlit 드론 gps\n",
    "---\n",
    "참고: https://github.com/greattoe/ros_tutorial_kr/blob/master/ros1_tutorial/rospy/bebop2/bb2_5_mark_bebop2_on_web.md"
   ]
  },
  {
   "cell_type": "markdown",
   "metadata": {},
   "source": [
    "# 도로 CCTV 송출\n",
    "---\n",
    "참고: https://parkgihyeon.github.io/project/cctv-api/#2%EF%B8%8F%E2%83%A3-cctv-api%EB%A5%BC-%ED%98%B8%EC%B6%9C%ED%95%98%EB%8A%94-%EB%B0%A9%EB%B2%95"
   ]
  },
  {
   "cell_type": "markdown",
   "metadata": {},
   "source": [
    "# 수정코드\n",
    "---"
   ]
  },
  {
   "cell_type": "code",
   "execution_count": 125,
   "metadata": {},
   "outputs": [],
   "source": [
    "# 현재위치 좌표 얻기\n",
    "import requests, json\n",
    "import pandas as pd\n",
    "\n",
    "def current_location():\n",
    "    here_req = requests.get(\"http://www.geoplugin.net/json.gp\")\n",
    "\n",
    "    if (here_req.status_code != 200):\n",
    "        print(\"현재좌표를 불러올 수 없음\")\n",
    "    else:\n",
    "        location = json.loads(here_req.text)\n",
    "        crd = {float(location[\"geoplugin_latitude\"]), float(location[\"geoplugin_longitude\"])}\n",
    "        crd = list(crd)\n",
    "        gps = pd.DataFrame( [[crd[1],crd[0]]], columns=['위도','경도'])\n",
    "    \n",
    "    return gps"
   ]
  },
  {
   "cell_type": "code",
   "execution_count": 128,
   "metadata": {},
   "outputs": [],
   "source": [
    "gps = current_location()"
   ]
  },
  {
   "cell_type": "code",
   "execution_count": 130,
   "metadata": {},
   "outputs": [
    {
     "data": {
      "text/plain": [
       "0    35.8723\n",
       "Name: 위도, dtype: float64"
      ]
     },
     "execution_count": 130,
     "metadata": {},
     "output_type": "execute_result"
    }
   ],
   "source": [
    "gps['위도']"
   ]
  },
  {
   "cell_type": "code",
   "execution_count": 132,
   "metadata": {},
   "outputs": [
    {
     "ename": "KeyError",
     "evalue": "'response'",
     "output_type": "error",
     "traceback": [
      "\u001b[1;31m---------------------------------------------------------------------------\u001b[0m",
      "\u001b[1;31mKeyError\u001b[0m                                  Traceback (most recent call last)",
      "\u001b[1;32mc:\\minsoo-s\\workspace\\KDT_Final_Project\\T3Q_projects_team_1_minsoo\\LOCATION.ipynb 셀 13\u001b[0m in \u001b[0;36m<cell line: 39>\u001b[1;34m()\u001b[0m\n\u001b[0;32m     <a href='vscode-notebook-cell:/c%3A/minsoo-s/workspace/KDT_Final_Project/T3Q_projects_team_1_minsoo/LOCATION.ipynb#X26sZmlsZQ%3D%3D?line=33'>34</a>\u001b[0m     min_index \u001b[39m=\u001b[39m np\u001b[39m.\u001b[39margmin(distances)\n\u001b[0;32m     <a href='vscode-notebook-cell:/c%3A/minsoo-s/workspace/KDT_Final_Project/T3Q_projects_team_1_minsoo/LOCATION.ipynb#X26sZmlsZQ%3D%3D?line=35'>36</a>\u001b[0m     \u001b[39mreturn\u001b[39;00m cctv_data[min_index]\n\u001b[1;32m---> <a href='vscode-notebook-cell:/c%3A/minsoo-s/workspace/KDT_Final_Project/T3Q_projects_team_1_minsoo/LOCATION.ipynb#X26sZmlsZQ%3D%3D?line=38'>39</a>\u001b[0m cctv_data \u001b[39m=\u001b[39m get_cctv_url(\u001b[39m36.58629\u001b[39;49m, \u001b[39m128.186793\u001b[39;49m)\n\u001b[0;32m     <a href='vscode-notebook-cell:/c%3A/minsoo-s/workspace/KDT_Final_Project/T3Q_projects_team_1_minsoo/LOCATION.ipynb#X26sZmlsZQ%3D%3D?line=39'>40</a>\u001b[0m \u001b[39mprint\u001b[39m(\u001b[39m'\u001b[39m\u001b[39mCCTV명:\u001b[39m\u001b[39m'\u001b[39m, cctv_data[\u001b[39m'\u001b[39m\u001b[39mcctvname\u001b[39m\u001b[39m'\u001b[39m]) \u001b[39m# 가장 가까운 CCTV명\u001b[39;00m\n\u001b[0;32m     <a href='vscode-notebook-cell:/c%3A/minsoo-s/workspace/KDT_Final_Project/T3Q_projects_team_1_minsoo/LOCATION.ipynb#X26sZmlsZQ%3D%3D?line=40'>41</a>\u001b[0m \u001b[39mprint\u001b[39m(\u001b[39m'\u001b[39m\u001b[39mCCTV 영상 URL:\u001b[39m\u001b[39m'\u001b[39m, cctv_data[\u001b[39m'\u001b[39m\u001b[39mcctvurl\u001b[39m\u001b[39m'\u001b[39m])\n",
      "\u001b[1;32mc:\\minsoo-s\\workspace\\KDT_Final_Project\\T3Q_projects_team_1_minsoo\\LOCATION.ipynb 셀 13\u001b[0m in \u001b[0;36mget_cctv_url\u001b[1;34m(lat, lng)\u001b[0m\n\u001b[0;32m     <a href='vscode-notebook-cell:/c%3A/minsoo-s/workspace/KDT_Final_Project/T3Q_projects_team_1_minsoo/LOCATION.ipynb#X26sZmlsZQ%3D%3D?line=12'>13</a>\u001b[0m api_call \u001b[39m=\u001b[39m \u001b[39m'\u001b[39m\u001b[39mhttps://openapi.its.go.kr:9443/cctvInfo?\u001b[39m\u001b[39m'\u001b[39m \\\n\u001b[0;32m     <a href='vscode-notebook-cell:/c%3A/minsoo-s/workspace/KDT_Final_Project/T3Q_projects_team_1_minsoo/LOCATION.ipynb#X26sZmlsZQ%3D%3D?line=13'>14</a>\u001b[0m            \u001b[39m'\u001b[39m\u001b[39mapiKey=개인key\u001b[39m\u001b[39m'\u001b[39m \\\n\u001b[0;32m     <a href='vscode-notebook-cell:/c%3A/minsoo-s/workspace/KDT_Final_Project/T3Q_projects_team_1_minsoo/LOCATION.ipynb#X26sZmlsZQ%3D%3D?line=14'>15</a>\u001b[0m            \u001b[39m'\u001b[39m\u001b[39m&type=ex&cctvType=2\u001b[39m\u001b[39m'\u001b[39m \\\n\u001b[1;32m   (...)\u001b[0m\n\u001b[0;32m     <a href='vscode-notebook-cell:/c%3A/minsoo-s/workspace/KDT_Final_Project/T3Q_projects_team_1_minsoo/LOCATION.ipynb#X26sZmlsZQ%3D%3D?line=18'>19</a>\u001b[0m            \u001b[39m'\u001b[39m\u001b[39m&maxY=\u001b[39m\u001b[39m'\u001b[39m \u001b[39m+\u001b[39m maxY \u001b[39m+\u001b[39m \\\n\u001b[0;32m     <a href='vscode-notebook-cell:/c%3A/minsoo-s/workspace/KDT_Final_Project/T3Q_projects_team_1_minsoo/LOCATION.ipynb#X26sZmlsZQ%3D%3D?line=19'>20</a>\u001b[0m            \u001b[39m'\u001b[39m\u001b[39m&getType=json\u001b[39m\u001b[39m'\u001b[39m\n\u001b[0;32m     <a href='vscode-notebook-cell:/c%3A/minsoo-s/workspace/KDT_Final_Project/T3Q_projects_team_1_minsoo/LOCATION.ipynb#X26sZmlsZQ%3D%3D?line=21'>22</a>\u001b[0m w_dataset \u001b[39m=\u001b[39m requests\u001b[39m.\u001b[39mget(api_call)\u001b[39m.\u001b[39mjson()\n\u001b[1;32m---> <a href='vscode-notebook-cell:/c%3A/minsoo-s/workspace/KDT_Final_Project/T3Q_projects_team_1_minsoo/LOCATION.ipynb#X26sZmlsZQ%3D%3D?line=22'>23</a>\u001b[0m cctv_data \u001b[39m=\u001b[39m w_dataset[\u001b[39m'\u001b[39;49m\u001b[39mresponse\u001b[39;49m\u001b[39m'\u001b[39;49m][\u001b[39m'\u001b[39m\u001b[39mdata\u001b[39m\u001b[39m'\u001b[39m]\n\u001b[0;32m     <a href='vscode-notebook-cell:/c%3A/minsoo-s/workspace/KDT_Final_Project/T3Q_projects_team_1_minsoo/LOCATION.ipynb#X26sZmlsZQ%3D%3D?line=24'>25</a>\u001b[0m coordx_list \u001b[39m=\u001b[39m []\n\u001b[0;32m     <a href='vscode-notebook-cell:/c%3A/minsoo-s/workspace/KDT_Final_Project/T3Q_projects_team_1_minsoo/LOCATION.ipynb#X26sZmlsZQ%3D%3D?line=25'>26</a>\u001b[0m \u001b[39mfor\u001b[39;00m index, data \u001b[39min\u001b[39;00m \u001b[39menumerate\u001b[39m(cctv_data):\n",
      "\u001b[1;31mKeyError\u001b[0m: 'response'"
     ]
    }
   ],
   "source": [
    "# cctv -----------------------------------------------------------------------------------------------------\n",
    "import requests\n",
    "import numpy as np\n",
    "\n",
    "def get_cctv_url(lat, lng):\n",
    "    # CCTV 탐색 범위 지정을 위해 임의로 ±1 만큼 가감\n",
    "    minX = str(lng-1)\n",
    "    maxX = str(lng+1)\n",
    "    minY = str(lat-1)\n",
    "    maxY = str(lat+1)\n",
    "\n",
    "    # 개인key 입력\n",
    "    api_call = 'https://openapi.its.go.kr:9443/cctvInfo?' \\\n",
    "               'apiKey=개인key' \\\n",
    "               '&type=ex&cctvType=2' \\\n",
    "               '&minX=' + minX + \\\n",
    "               '&maxX=' + maxX + \\\n",
    "               '&minY=' + minY + \\\n",
    "               '&maxY=' + maxY + \\\n",
    "               '&getType=json'\n",
    "\n",
    "    w_dataset = requests.get(api_call).json()\n",
    "    cctv_data = w_dataset['response']['data']\n",
    "\n",
    "    coordx_list = []\n",
    "    for index, data in enumerate(cctv_data):\n",
    "        xy_couple = (float(cctv_data[index]['coordy']),float(cctv_data[index]['coordx']))\n",
    "        coordx_list.append(xy_couple)\n",
    "\n",
    "    # 입력한 위경도 좌표에서 가장 가까운 위치에 있는 CCTV를 찾는 과정\n",
    "    coordx_list = np.array(coordx_list)\n",
    "    leftbottom = np.array((lat, lng))\n",
    "    distances = np.linalg.norm(coordx_list - leftbottom, axis=1)\n",
    "    min_index = np.argmin(distances)\n",
    "\n",
    "    return cctv_data[min_index]\n",
    "\n",
    "\n",
    "cctv_data = get_cctv_url(36.58629, 128.186793)\n",
    "print('CCTV명:', cctv_data['cctvname']) # 가장 가까운 CCTV명\n",
    "print('CCTV 영상 URL:', cctv_data['cctvurl']) # 가장 가까운 CCTV 영상 URL"
   ]
  },
  {
   "cell_type": "code",
   "execution_count": 134,
   "metadata": {},
   "outputs": [
    {
     "name": "stdout",
     "output_type": "stream",
     "text": [
      "Defaulting to user installation because normal site-packages is not writeable\n",
      "Collecting pygeoip\n",
      "  Downloading pygeoip-0.3.2-py2.py3-none-any.whl (20 kB)\n",
      "Installing collected packages: pygeoip\n",
      "Successfully installed pygeoip-0.3.2\n"
     ]
    }
   ],
   "source": [
    "!pip install pygeoip"
   ]
  },
  {
   "cell_type": "code",
   "execution_count": null,
   "metadata": {},
   "outputs": [],
   "source": []
  }
 ],
 "metadata": {
  "kernelspec": {
   "display_name": "Python 3.9.12 ('base')",
   "language": "python",
   "name": "python3"
  },
  "language_info": {
   "codemirror_mode": {
    "name": "ipython",
    "version": 3
   },
   "file_extension": ".py",
   "mimetype": "text/x-python",
   "name": "python",
   "nbconvert_exporter": "python",
   "pygments_lexer": "ipython3",
   "version": "3.9.12"
  },
  "orig_nbformat": 4,
  "vscode": {
   "interpreter": {
    "hash": "ad2bdc8ecc057115af97d19610ffacc2b4e99fae6737bb82f5d7fb13d2f2c186"
   }
  }
 },
 "nbformat": 4,
 "nbformat_minor": 2
}
