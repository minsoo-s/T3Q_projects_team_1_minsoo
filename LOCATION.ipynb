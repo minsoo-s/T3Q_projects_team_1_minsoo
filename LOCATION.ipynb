{
 "cells": [
  {
   "cell_type": "markdown",
   "metadata": {},
   "source": [
    "# 실시간 위치 좌표 얻기\n",
    "---\n",
    "- 출처: https://parkgihyeon.github.io/project/geocoding-api/"
   ]
  },
  {
   "cell_type": "code",
   "execution_count": 1,
   "metadata": {},
   "outputs": [
    {
     "name": "stdout",
     "output_type": "stream",
     "text": [
      "{'lat': '35.8723', 'lng': '128.5924'}\n"
     ]
    }
   ],
   "source": [
    "# 현재위치 좌표 얻기\n",
    "import requests, json\n",
    "\n",
    "def current_location():\n",
    "    here_req = requests.get(\"http://www.geoplugin.net/json.gp\")\n",
    "\n",
    "    if (here_req.status_code != 200):\n",
    "        print(\"현재좌표를 불러올 수 없음\")\n",
    "    else:\n",
    "        location = json.loads(here_req.text)\n",
    "        crd = {\"lat\": str(location[\"geoplugin_latitude\"]), \"lng\": str(location[\"geoplugin_longitude\"])}\n",
    "\n",
    "    return crd\n",
    "\n",
    "crd = current_location()\n",
    "print(crd)"
   ]
  },
  {
   "cell_type": "code",
   "execution_count": 3,
   "metadata": {},
   "outputs": [
    {
     "name": "stdout",
     "output_type": "stream",
     "text": [
      "영진전문대학교, 동북로49길, 복현2동, 복현동, 북구, 대구, 41564, 대한민국\n"
     ]
    }
   ],
   "source": [
    "# 가입 없이 좌표->주소 변환\n",
    "from geopy.geocoders import Nominatim\n",
    "\n",
    "def geocoding_reverse(lat_lng_str): \n",
    "    geolocoder = Nominatim(user_agent = 'South Korea', timeout=None)\n",
    "    address = geolocoder.reverse(lat_lng_str)\n",
    "\n",
    "    return address\n",
    "\n",
    "address = geocoding_reverse('35.8968175, 128.6194541')\n",
    "print(address)"
   ]
  },
  {
   "cell_type": "code",
   "execution_count": 2,
   "metadata": {},
   "outputs": [
    {
     "name": "stdout",
     "output_type": "stream",
     "text": [
      "35.8968175\n",
      "128.6194541\n"
     ]
    }
   ],
   "source": [
    "# 가입 없이 주소->좌표 변환\n",
    "from geopy.geocoders import Nominatim\n",
    "\n",
    "def geocoding(address):\n",
    "    geolocoder = Nominatim(user_agent = 'South Korea', timeout=None)\n",
    "    geo = geolocoder.geocode(address)\n",
    "    crd = {\"lat\": str(geo.latitude), \"lng\": str(geo.longitude)}\n",
    "\n",
    "    return crd\n",
    "\n",
    "crd = geocoding(\"대구 복현동\")\n",
    "print(crd['lat'])\n",
    "print(crd['lng'])"
   ]
  },
  {
   "cell_type": "code",
   "execution_count": 8,
   "metadata": {},
   "outputs": [
    {
     "name": "stderr",
     "output_type": "stream",
     "text": [
      "'streamlit'��(��) ���� �Ǵ� �ܺ� ����, ������ �� �ִ� ���α׷�, �Ǵ�\n",
      "��ġ ������ �ƴմϴ�.\n"
     ]
    }
   ],
   "source": [
    "'../T3Q_projects_team_1/streamlit_app.py'"
   ]
  },
  {
   "cell_type": "markdown",
   "metadata": {},
   "source": [
    "# streamlit yolov5 \n",
    "---\n",
    "참고 : https://github.com/xugaoxiang/yolov5-streamlit"
   ]
  },
  {
   "cell_type": "markdown",
   "metadata": {},
   "source": [
    "# streamlit 드론 gps\n",
    "---\n",
    "참고: https://github.com/greattoe/ros_tutorial_kr/blob/master/ros1_tutorial/rospy/bebop2/bb2_5_mark_bebop2_on_web.md"
   ]
  },
  {
   "cell_type": "markdown",
   "metadata": {},
   "source": [
    "# 도로 CCTV 송출\n",
    "---\n",
    "import requests\n",
    "import numpy as np\n",
    "\n",
    "def get_cctv_url(lat, lng):\n",
    "    # CCTV 탐색 범위 지정을 위해 임의로 ±1 만큼 가감\n",
    "    minX = str(lng-1)\n",
    "    maxX = str(lng+1)\n",
    "    minY = str(lat-1)\n",
    "    maxY = str(lat+1)\n",
    "\n",
    "    # 개인key 입력\n",
    "    api_call = 'https://openapi.its.go.kr:9443/cctvInfo?' \\\n",
    "               'apiKey=개인key' \\\n",
    "               '&type=ex&cctvType=2' \\\n",
    "               '&minX=' + minX + \\\n",
    "               '&maxX=' + maxX + \\\n",
    "               '&minY=' + minY + \\\n",
    "               '&maxY=' + maxY + \\\n",
    "               '&getType=json'\n",
    "\n",
    "    w_dataset = requests.get(api_call).json()\n",
    "    cctv_data = w_dataset['response']['data']\n",
    "\n",
    "    coordx_list = []\n",
    "    for index, data in enumerate(cctv_data):\n",
    "        xy_couple = (float(cctv_data[index]['coordy']),float(cctv_data[index]['coordx']))\n",
    "        coordx_list.append(xy_couple)\n",
    "\n",
    "    # 입력한 위경도 좌표에서 가장 가까운 위치에 있는 CCTV를 찾는 과정\n",
    "    coordx_list = np.array(coordx_list)\n",
    "    leftbottom = np.array((lat, lng))\n",
    "    distances = np.linalg.norm(coordx_list - leftbottom, axis=1)\n",
    "    min_index = np.argmin(distances)\n",
    "\n",
    "    return cctv_data[min_index]\n",
    "\n",
    "\n",
    "cctv_data = get_cctv_url(36.58629, 128.186793)\n",
    "print('CCTV명:', cctv_data['cctvname']) # 가장 가까운 CCTV명\n",
    "print('CCTV 영상 URL:', cctv_data['cctvurl']) # 가장 가까운 CCTV 영상 URL"
   ]
  },
  {
   "cell_type": "markdown",
   "metadata": {},
   "source": []
  }
 ],
 "metadata": {
  "kernelspec": {
   "display_name": "Python 3.9.12 ('base')",
   "language": "python",
   "name": "python3"
  },
  "language_info": {
   "codemirror_mode": {
    "name": "ipython",
    "version": 3
   },
   "file_extension": ".py",
   "mimetype": "text/x-python",
   "name": "python",
   "nbconvert_exporter": "python",
   "pygments_lexer": "ipython3",
   "version": "3.9.12"
  },
  "orig_nbformat": 4,
  "vscode": {
   "interpreter": {
    "hash": "ad2bdc8ecc057115af97d19610ffacc2b4e99fae6737bb82f5d7fb13d2f2c186"
   }
  }
 },
 "nbformat": 4,
 "nbformat_minor": 2
}
