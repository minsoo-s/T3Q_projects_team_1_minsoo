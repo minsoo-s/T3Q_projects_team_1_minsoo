{
 "cells": [
  {
   "cell_type": "code",
   "execution_count": 1,
   "metadata": {},
   "outputs": [],
   "source": [
    "#import streamlit as st \n",
    "import requests, json\n",
    "import pandas as pd\n",
    "import numpy as np\n",
    "import cv2\n",
    "#import pydeck as pdk"
   ]
  },
  {
   "cell_type": "markdown",
   "metadata": {},
   "source": [
    "# 실시간 위치 좌표 얻기\n",
    "---\n",
    "- 출처: https://parkgihyeon.github.io/project/geocoding-api/"
   ]
  },
  {
   "cell_type": "code",
   "execution_count": 84,
   "metadata": {},
   "outputs": [
    {
     "name": "stdout",
     "output_type": "stream",
     "text": [
      "{'lat': '35.8723', 'lng': '128.5924'}\n"
     ]
    }
   ],
   "source": [
    "# 현재위치 좌표 얻기\n",
    "import requests, json\n",
    "\n",
    "def current_location():\n",
    "    here_req = requests.get(\"http://www.geoplugin.net/json.gp\")\n",
    "\n",
    "    if (here_req.status_code != 200):\n",
    "        print(\"현재좌표를 불러올 수 없음\")\n",
    "    else:\n",
    "        location = json.loads(here_req.text)\n",
    "        crd = {\"lat\": str(location[\"geoplugin_latitude\"]), \"lng\": str(location[\"geoplugin_longitude\"])}\n",
    "\n",
    "    return crd\n",
    "\n",
    "crd = current_location()\n",
    "print(crd)"
   ]
  },
  {
   "cell_type": "code",
   "execution_count": 5,
   "metadata": {},
   "outputs": [
    {
     "name": "stdout",
     "output_type": "stream",
     "text": [
      "입석로, 동구, 대구, 41143, 대한민국\n"
     ]
    }
   ],
   "source": [
    "# 가입 없이 좌표->주소 변환\n",
    "from geopy.geocoders import Nominatim\n",
    "\n",
    "def geocoding_reverse(lat_lng_str): \n",
    "    geolocoder = Nominatim(user_agent = 'South Korea', timeout=None)\n",
    "    address = geolocoder.reverse(lat_lng_str)\n",
    "\n",
    "    return address\n",
    "\n",
    "address = geocoding_reverse('35.8908017,128.6506577')\n",
    "print(address)"
   ]
  },
  {
   "cell_type": "code",
   "execution_count": 16,
   "metadata": {},
   "outputs": [
    {
     "name": "stdout",
     "output_type": "stream",
     "text": [
      "35.85665565\n",
      "128.62401223992515\n"
     ]
    },
    {
     "data": {
      "text/html": [
       "<div>\n",
       "<style scoped>\n",
       "    .dataframe tbody tr th:only-of-type {\n",
       "        vertical-align: middle;\n",
       "    }\n",
       "\n",
       "    .dataframe tbody tr th {\n",
       "        vertical-align: top;\n",
       "    }\n",
       "\n",
       "    .dataframe thead th {\n",
       "        text-align: right;\n",
       "    }\n",
       "</style>\n",
       "<table border=\"1\" class=\"dataframe\">\n",
       "  <thead>\n",
       "    <tr style=\"text-align: right;\">\n",
       "      <th></th>\n",
       "      <th>위도</th>\n",
       "      <th>경도</th>\n",
       "    </tr>\n",
       "  </thead>\n",
       "  <tbody>\n",
       "    <tr>\n",
       "      <th>0</th>\n",
       "      <td>35.85665565</td>\n",
       "      <td>128.62401223992515</td>\n",
       "    </tr>\n",
       "  </tbody>\n",
       "</table>\n",
       "</div>"
      ],
      "text/plain": [
       "            위도                  경도\n",
       "0  35.85665565  128.62401223992515"
      ]
     },
     "execution_count": 16,
     "metadata": {},
     "output_type": "execute_result"
    }
   ],
   "source": [
    "# 가입 없이 주소->좌표 변환 ###\n",
    "from geopy.geocoders import Nominatim\n",
    "\n",
    "def geocoding(address):\n",
    "    geolocoder = Nominatim(user_agent = 'South Korea', timeout=None)\n",
    "    geo = geolocoder.geocode(address)\n",
    "    crd = {\"lat\": str(geo.latitude), \"lng\": str(geo.longitude)}\n",
    "\n",
    "    return crd\n",
    "\n",
    "crd = geocoding(\"대구 동도초등학교\")\n",
    "print(crd['lat'])\n",
    "print(crd['lng'])\n",
    "\n",
    "gps = pd.DataFrame( [[crd['lat'],crd['lng']]], columns=['위도','경도'])\n",
    "gps"
   ]
  },
  {
   "cell_type": "markdown",
   "metadata": {},
   "source": [
    "# 장소 마크 표시 및 개수 세기\n",
    "---- \n",
    "참고:https://haries.tistory.com/6"
   ]
  },
  {
   "cell_type": "markdown",
   "metadata": {},
   "source": [
    "# streamlit yolov5 \n",
    "---\n",
    "참고 : https://github.com/xugaoxiang/yolov5-streamlit"
   ]
  },
  {
   "cell_type": "markdown",
   "metadata": {},
   "source": [
    "# streamlit 드론 gps\n",
    "---\n",
    "참고: https://github.com/greattoe/ros_tutorial_kr/blob/master/ros1_tutorial/rospy/bebop2/bb2_5_mark_bebop2_on_web.md"
   ]
  },
  {
   "cell_type": "markdown",
   "metadata": {},
   "source": [
    "# 도로 CCTV 송출\n",
    "---\n",
    "참고: https://parkgihyeon.github.io/project/cctv-api/#2%EF%B8%8F%E2%83%A3-cctv-api%EB%A5%BC-%ED%98%B8%EC%B6%9C%ED%95%98%EB%8A%94-%EB%B0%A9%EB%B2%95"
   ]
  },
  {
   "cell_type": "markdown",
   "metadata": {},
   "source": [
    "# 수정코드\n",
    "---"
   ]
  },
  {
   "cell_type": "code",
   "execution_count": 87,
   "metadata": {},
   "outputs": [],
   "source": [
    "# 현재위치 좌표 얻기\n",
    "import requests, json\n",
    "import pandas as pd\n",
    "\n",
    "def current_location():\n",
    "    here_req = requests.get(\"http://www.geoplugin.net/json.gp\")\n",
    "\n",
    "    if (here_req.status_code != 200):\n",
    "        print(\"현재좌표를 불러올 수 없음\")\n",
    "    else:\n",
    "        location = json.loads(here_req.text)\n",
    "        crd = {float(location[\"geoplugin_latitude\"]), float(location[\"geoplugin_longitude\"])}\n",
    "        crd = list(crd)\n",
    "        gps = pd.DataFrame( [[crd[1],crd[0]]], columns=['위도','경도'])\n",
    "    \n",
    "    return gps"
   ]
  },
  {
   "cell_type": "code",
   "execution_count": 88,
   "metadata": {},
   "outputs": [
    {
     "data": {
      "text/html": [
       "<div>\n",
       "<style scoped>\n",
       "    .dataframe tbody tr th:only-of-type {\n",
       "        vertical-align: middle;\n",
       "    }\n",
       "\n",
       "    .dataframe tbody tr th {\n",
       "        vertical-align: top;\n",
       "    }\n",
       "\n",
       "    .dataframe thead th {\n",
       "        text-align: right;\n",
       "    }\n",
       "</style>\n",
       "<table border=\"1\" class=\"dataframe\">\n",
       "  <thead>\n",
       "    <tr style=\"text-align: right;\">\n",
       "      <th></th>\n",
       "      <th>위도</th>\n",
       "      <th>경도</th>\n",
       "    </tr>\n",
       "  </thead>\n",
       "  <tbody>\n",
       "    <tr>\n",
       "      <th>0</th>\n",
       "      <td>35.8723</td>\n",
       "      <td>128.5924</td>\n",
       "    </tr>\n",
       "  </tbody>\n",
       "</table>\n",
       "</div>"
      ],
      "text/plain": [
       "        위도        경도\n",
       "0  35.8723  128.5924"
      ]
     },
     "execution_count": 88,
     "metadata": {},
     "output_type": "execute_result"
    }
   ],
   "source": [
    "gps = current_location()\n",
    "gps"
   ]
  },
  {
   "cell_type": "code",
   "execution_count": 89,
   "metadata": {},
   "outputs": [],
   "source": [
    "# gps_all(기존) 불러오기\n",
    "gps_all = pd.read_csv('gps_all.csv')\n",
    "\n",
    "# gps_all(기존), gps(추가 갱신) 데이터프레임 결합 \n",
    "gps_all = pd.concat([gps_all,gps]).reset_index()\n",
    "gps_all = gps_all.drop('index',axis=1)\n",
    "\n",
    "# 중복 위치 제거\n",
    "gps_all = gps_all.drop_duplicates(['위도','경도'])\n",
    "# gps_all,len(gps_all,'개')\n",
    "\n",
    "# 추가 위치정보 저장된 데이터프레임 저장\n",
    "gps_all.to_csv('gps_all.csv',index = False)"
   ]
  },
  {
   "cell_type": "code",
   "execution_count": 90,
   "metadata": {},
   "outputs": [
    {
     "data": {
      "text/html": [
       "<div>\n",
       "<style scoped>\n",
       "    .dataframe tbody tr th:only-of-type {\n",
       "        vertical-align: middle;\n",
       "    }\n",
       "\n",
       "    .dataframe tbody tr th {\n",
       "        vertical-align: top;\n",
       "    }\n",
       "\n",
       "    .dataframe thead th {\n",
       "        text-align: right;\n",
       "    }\n",
       "</style>\n",
       "<table border=\"1\" class=\"dataframe\">\n",
       "  <thead>\n",
       "    <tr style=\"text-align: right;\">\n",
       "      <th></th>\n",
       "      <th>위도</th>\n",
       "      <th>경도</th>\n",
       "    </tr>\n",
       "  </thead>\n",
       "  <tbody>\n",
       "    <tr>\n",
       "      <th>0</th>\n",
       "      <td>35.8124</td>\n",
       "      <td>128.5125</td>\n",
       "    </tr>\n",
       "    <tr>\n",
       "      <th>1</th>\n",
       "      <td>35.8825</td>\n",
       "      <td>128.5726</td>\n",
       "    </tr>\n",
       "    <tr>\n",
       "      <th>2</th>\n",
       "      <td>35.8326</td>\n",
       "      <td>128.5327</td>\n",
       "    </tr>\n",
       "    <tr>\n",
       "      <th>3</th>\n",
       "      <td>35.8627</td>\n",
       "      <td>128.5428</td>\n",
       "    </tr>\n",
       "    <tr>\n",
       "      <th>4</th>\n",
       "      <td>35.8428</td>\n",
       "      <td>128.5529</td>\n",
       "    </tr>\n",
       "    <tr>\n",
       "      <th>5</th>\n",
       "      <td>35.8723</td>\n",
       "      <td>128.5924</td>\n",
       "    </tr>\n",
       "  </tbody>\n",
       "</table>\n",
       "</div>"
      ],
      "text/plain": [
       "        위도        경도\n",
       "0  35.8124  128.5125\n",
       "1  35.8825  128.5726\n",
       "2  35.8326  128.5327\n",
       "3  35.8627  128.5428\n",
       "4  35.8428  128.5529\n",
       "5  35.8723  128.5924"
      ]
     },
     "execution_count": 90,
     "metadata": {},
     "output_type": "execute_result"
    }
   ],
   "source": [
    "gps_all = pd.read_csv('gps_all.csv')\n",
    "gps_all"
   ]
  },
  {
   "cell_type": "code",
   "execution_count": 91,
   "metadata": {},
   "outputs": [
    {
     "name": "stdout",
     "output_type": "stream",
     "text": [
      "경상감영1길, 중구, 대구, 41934, 대한민국\n"
     ]
    }
   ],
   "source": [
    "# 가입 없이 좌표->주소 변환\n",
    "from geopy.geocoders import Nominatim\n",
    "\n",
    "def geocoding_reverse(lat_lng_str): \n",
    "    geolocoder = Nominatim(user_agent = 'South Korea', timeout=None)\n",
    "    address = geolocoder.reverse(lat_lng_str)\n",
    "\n",
    "    return address\n",
    "\n",
    "address = geocoding_reverse('35.8723, 128.5924')\n",
    "print(address)"
   ]
  },
  {
   "cell_type": "code",
   "execution_count": 92,
   "metadata": {},
   "outputs": [
    {
     "name": "stdout",
     "output_type": "stream",
     "text": [
      "35.8124,128.5125\n"
     ]
    }
   ],
   "source": [
    "#for i in range(7):\n",
    "lat = gps_all['위도'][0]\n",
    "lng = gps_all['경도'][0]\n",
    "print(f'{lat},{lng}')"
   ]
  },
  {
   "cell_type": "code",
   "execution_count": 117,
   "metadata": {},
   "outputs": [],
   "source": [
    "option='중구'"
   ]
  },
  {
   "cell_type": "code",
   "execution_count": 120,
   "metadata": {},
   "outputs": [],
   "source": [
    "# 가입 없이 좌표->주소 변환\n",
    "from geopy.geocoders import Nominatim\n",
    "\n",
    "def geocoding_reverse(lat_lng_str): \n",
    "    geolocoder = Nominatim(user_agent = 'South Korea', timeout=None)\n",
    "    address = geolocoder.reverse(lat_lng_str)\n",
    "\n",
    "    return address\n",
    "\n",
    "address_list = []\n",
    "for i in range(len(gps_all)):\n",
    "#    if option in gps_all.loc[i]:\n",
    "        lat = gps_all['위도'][i]\n",
    "        lng = gps_all['경도'][i]\n",
    "        address = geocoding_reverse(f'{lat}, {lng}')\n",
    "        address_list.append(address)"
   ]
  },
  {
   "cell_type": "code",
   "execution_count": 121,
   "metadata": {},
   "outputs": [
    {
     "data": {
      "text/html": [
       "<div>\n",
       "<style scoped>\n",
       "    .dataframe tbody tr th:only-of-type {\n",
       "        vertical-align: middle;\n",
       "    }\n",
       "\n",
       "    .dataframe tbody tr th {\n",
       "        vertical-align: top;\n",
       "    }\n",
       "\n",
       "    .dataframe thead th {\n",
       "        text-align: right;\n",
       "    }\n",
       "</style>\n",
       "<table border=\"1\" class=\"dataframe\">\n",
       "  <thead>\n",
       "    <tr style=\"text-align: right;\">\n",
       "      <th></th>\n",
       "      <th>주소</th>\n",
       "      <th>위치정보(위도,경도)</th>\n",
       "    </tr>\n",
       "  </thead>\n",
       "  <tbody>\n",
       "    <tr>\n",
       "      <th>0</th>\n",
       "      <td>대구유천초등학교, 달서대로, 유천동, 달서구, 대구, 42769, 대한민국</td>\n",
       "      <td>(35.812507, 128.512028)</td>\n",
       "    </tr>\n",
       "    <tr>\n",
       "      <th>1</th>\n",
       "      <td>달서로, 비산6동, 비산동, 서구, 대구, 41782, 대한민국</td>\n",
       "      <td>(35.88249340995197, 128.57261594921147)</td>\n",
       "    </tr>\n",
       "    <tr>\n",
       "      <th>2</th>\n",
       "      <td>구마로14남길, 월성센트로파크아파트, 월성동, 달서구, 대구, 42730, 대한민국</td>\n",
       "      <td>(35.832596088998464, 128.53256479938742)</td>\n",
       "    </tr>\n",
       "    <tr>\n",
       "      <th>3</th>\n",
       "      <td>27, 평리로35길, 서대구공단, 서구, 대구, 41844, 대한민국</td>\n",
       "      <td>(35.862623049999996, 128.542901)</td>\n",
       "    </tr>\n",
       "    <tr>\n",
       "      <th>4</th>\n",
       "      <td>야외음악당로, 송현2동, 성당동, 달서구, 대구, 42671, 대한민국</td>\n",
       "      <td>(35.84280009420493, 128.55287741436584)</td>\n",
       "    </tr>\n",
       "    <tr>\n",
       "      <th>5</th>\n",
       "      <td>경상감영1길, 중구, 대구, 41934, 대한민국</td>\n",
       "      <td>(35.87236884687725, 128.592956121765)</td>\n",
       "    </tr>\n",
       "  </tbody>\n",
       "</table>\n",
       "</div>"
      ],
      "text/plain": [
       "                                               주소  \\\n",
       "0       대구유천초등학교, 달서대로, 유천동, 달서구, 대구, 42769, 대한민국   \n",
       "1             달서로, 비산6동, 비산동, 서구, 대구, 41782, 대한민국   \n",
       "2  구마로14남길, 월성센트로파크아파트, 월성동, 달서구, 대구, 42730, 대한민국   \n",
       "3          27, 평리로35길, 서대구공단, 서구, 대구, 41844, 대한민국   \n",
       "4         야외음악당로, 송현2동, 성당동, 달서구, 대구, 42671, 대한민국   \n",
       "5                     경상감영1길, 중구, 대구, 41934, 대한민국   \n",
       "\n",
       "                                위치정보(위도,경도)  \n",
       "0                   (35.812507, 128.512028)  \n",
       "1   (35.88249340995197, 128.57261594921147)  \n",
       "2  (35.832596088998464, 128.53256479938742)  \n",
       "3          (35.862623049999996, 128.542901)  \n",
       "4   (35.84280009420493, 128.55287741436584)  \n",
       "5     (35.87236884687725, 128.592956121765)  "
      ]
     },
     "execution_count": 121,
     "metadata": {},
     "output_type": "execute_result"
    }
   ],
   "source": [
    "df = pd.DataFrame(address_list, columns=['주소','위치정보(위도,경도)'])\n",
    "\n",
    "df"
   ]
  },
  {
   "cell_type": "markdown",
   "metadata": {},
   "source": [
    "# 정규식으로 구별 현황 파악\n",
    "---"
   ]
  },
  {
   "cell_type": "code",
   "execution_count": 196,
   "metadata": {},
   "outputs": [],
   "source": [
    "option = '대구 전체'\n",
    "select_list =[]"
   ]
  },
  {
   "cell_type": "code",
   "execution_count": 156,
   "metadata": {},
   "outputs": [
    {
     "data": {
      "text/plain": [
       "6"
      ]
     },
     "execution_count": 156,
     "metadata": {},
     "output_type": "execute_result"
    }
   ],
   "source": [
    "gps_all = pd.read_csv('gps_all.csv')\n",
    "len(gps_all)"
   ]
  },
  {
   "cell_type": "code",
   "execution_count": 197,
   "metadata": {},
   "outputs": [],
   "source": [
    "address_list = []\n",
    "for i in range(len(gps_all)):                                                                                                                                                                                                                                                                                                                                                                                                                                                                                                                                                                                                                                                                                                                                                                                                                                                                                                                                                                                                                                                                                                                                                                \n",
    "    lat = gps_all['위도'][i]\n",
    "    lng = gps_all['경도'][i]\n",
    "    address = geocoding_reverse(f'{lat}, {lng}')\n",
    "    \n",
    "    # 카테고리 선택 \n",
    "    if option =='대구 전체':\n",
    "        address_list.append(address)\n",
    "    elif option in address[0]:\n",
    "        address_list.append(address)\n",
    "\n",
    "df = pd.DataFrame(address_list, columns=['주소','위치정보(위도,경도)'])\n"
   ]
  },
  {
   "cell_type": "code",
   "execution_count": 198,
   "metadata": {},
   "outputs": [
    {
     "data": {
      "text/plain": [
       "35.812507"
      ]
     },
     "execution_count": 198,
     "metadata": {},
     "output_type": "execute_result"
    }
   ],
   "source": [
    "df.loc[0][1][0]"
   ]
  },
  {
   "cell_type": "code",
   "execution_count": 199,
   "metadata": {},
   "outputs": [],
   "source": [
    "df_map = pd.DataFrame(columns=['주소','위도','경도'])\n",
    "for i in range(len(df)):\n",
    "    df_map.loc[i] = [df.loc[i]['주소'],df.loc[i][1][0],df.loc[i][1][1]]"
   ]
  },
  {
   "cell_type": "code",
   "execution_count": 200,
   "metadata": {},
   "outputs": [
    {
     "data": {
      "text/html": [
       "<div>\n",
       "<style scoped>\n",
       "    .dataframe tbody tr th:only-of-type {\n",
       "        vertical-align: middle;\n",
       "    }\n",
       "\n",
       "    .dataframe tbody tr th {\n",
       "        vertical-align: top;\n",
       "    }\n",
       "\n",
       "    .dataframe thead th {\n",
       "        text-align: right;\n",
       "    }\n",
       "</style>\n",
       "<table border=\"1\" class=\"dataframe\">\n",
       "  <thead>\n",
       "    <tr style=\"text-align: right;\">\n",
       "      <th></th>\n",
       "      <th>주소</th>\n",
       "      <th>위도</th>\n",
       "      <th>경도</th>\n",
       "    </tr>\n",
       "  </thead>\n",
       "  <tbody>\n",
       "    <tr>\n",
       "      <th>0</th>\n",
       "      <td>대구유천초등학교, 달서대로, 유천동, 달서구, 대구, 42769, 대한민국</td>\n",
       "      <td>35.812507</td>\n",
       "      <td>128.512028</td>\n",
       "    </tr>\n",
       "    <tr>\n",
       "      <th>1</th>\n",
       "      <td>달서로, 비산6동, 비산동, 서구, 대구, 41782, 대한민국</td>\n",
       "      <td>35.882493</td>\n",
       "      <td>128.572616</td>\n",
       "    </tr>\n",
       "    <tr>\n",
       "      <th>2</th>\n",
       "      <td>구마로14남길, 월성센트로파크아파트, 월성동, 달서구, 대구, 42730, 대한민국</td>\n",
       "      <td>35.832596</td>\n",
       "      <td>128.532565</td>\n",
       "    </tr>\n",
       "    <tr>\n",
       "      <th>3</th>\n",
       "      <td>27, 평리로35길, 서대구공단, 서구, 대구, 41844, 대한민국</td>\n",
       "      <td>35.862623</td>\n",
       "      <td>128.542901</td>\n",
       "    </tr>\n",
       "    <tr>\n",
       "      <th>4</th>\n",
       "      <td>야외음악당로, 송현2동, 성당동, 달서구, 대구, 42671, 대한민국</td>\n",
       "      <td>35.842800</td>\n",
       "      <td>128.552877</td>\n",
       "    </tr>\n",
       "    <tr>\n",
       "      <th>5</th>\n",
       "      <td>경상감영1길, 중구, 대구, 41934, 대한민국</td>\n",
       "      <td>35.872369</td>\n",
       "      <td>128.592956</td>\n",
       "    </tr>\n",
       "  </tbody>\n",
       "</table>\n",
       "</div>"
      ],
      "text/plain": [
       "                                               주소         위도          경도\n",
       "0       대구유천초등학교, 달서대로, 유천동, 달서구, 대구, 42769, 대한민국  35.812507  128.512028\n",
       "1             달서로, 비산6동, 비산동, 서구, 대구, 41782, 대한민국  35.882493  128.572616\n",
       "2  구마로14남길, 월성센트로파크아파트, 월성동, 달서구, 대구, 42730, 대한민국  35.832596  128.532565\n",
       "3          27, 평리로35길, 서대구공단, 서구, 대구, 41844, 대한민국  35.862623  128.542901\n",
       "4         야외음악당로, 송현2동, 성당동, 달서구, 대구, 42671, 대한민국  35.842800  128.552877\n",
       "5                     경상감영1길, 중구, 대구, 41934, 대한민국  35.872369  128.592956"
      ]
     },
     "execution_count": 200,
     "metadata": {},
     "output_type": "execute_result"
    }
   ],
   "source": [
    "df_map"
   ]
  },
  {
   "cell_type": "code",
   "execution_count": null,
   "metadata": {},
   "outputs": [],
   "source": []
  },
  {
   "cell_type": "markdown",
   "metadata": {},
   "source": [
    "# 이미지업로드\n",
    "---"
   ]
  },
  {
   "cell_type": "code",
   "execution_count": 2,
   "metadata": {},
   "outputs": [
    {
     "name": "stdout",
     "output_type": "stream",
     "text": [
      "Defaulting to user installation because normal site-packages is not writeable\n",
      "Collecting items\n",
      "  Downloading items-0.6.5-py3-none-any.whl (10 kB)\n",
      "Collecting nulltype>=2.3.1\n",
      "  Downloading nulltype-2.3.1-py2.py3-none-any.whl (11 kB)\n",
      "Installing collected packages: nulltype, items\n",
      "Successfully installed items-0.6.5 nulltype-2.3.1\n"
     ]
    }
   ],
   "source": [
    "!pip install items"
   ]
  },
  {
   "cell_type": "code",
   "execution_count": 6,
   "metadata": {},
   "outputs": [
    {
     "ename": "UnicodeEncodeError",
     "evalue": "'latin-1' codec can't encode characters in position 0-1: ordinal not in range(256)",
     "output_type": "error",
     "traceback": [
      "\u001b[1;31m---------------------------------------------------------------------------\u001b[0m",
      "\u001b[1;31mUnicodeEncodeError\u001b[0m                        Traceback (most recent call last)",
      "\u001b[1;32mc:\\minsoo-s\\workspace\\KDT_Final_Project\\T3Q_projects_team_1_minsoo\\streamlit\\practice_code.ipynb 셀 30\u001b[0m in \u001b[0;36m<cell line: 4>\u001b[1;34m()\u001b[0m\n\u001b[0;32m      <a href='vscode-notebook-cell:/c%3A/minsoo-s/workspace/KDT_Final_Project/T3Q_projects_team_1_minsoo/streamlit/practice_code.ipynb#X41sZmlsZQ%3D%3D?line=1'>2</a>\u001b[0m \u001b[39mfrom\u001b[39;00m \u001b[39mPIL\u001b[39;00m \u001b[39mimport\u001b[39;00m Image\n\u001b[0;32m      <a href='vscode-notebook-cell:/c%3A/minsoo-s/workspace/KDT_Final_Project/T3Q_projects_team_1_minsoo/streamlit/practice_code.ipynb#X41sZmlsZQ%3D%3D?line=2'>3</a>\u001b[0m \u001b[39mfrom\u001b[39;00m \u001b[39mPIL\u001b[39;00m\u001b[39m.\u001b[39;00m\u001b[39mExifTags\u001b[39;00m \u001b[39mimport\u001b[39;00m TAGS\n\u001b[1;32m----> <a href='vscode-notebook-cell:/c%3A/minsoo-s/workspace/KDT_Final_Project/T3Q_projects_team_1_minsoo/streamlit/practice_code.ipynb#X41sZmlsZQ%3D%3D?line=3'>4</a>\u001b[0m \u001b[39mimport\u001b[39;00m \u001b[39mpandas\u001b[39;00m \u001b[39mas\u001b[39;00m \u001b[39mpd\u001b[39;00m\n\u001b[0;32m      <a href='vscode-notebook-cell:/c%3A/minsoo-s/workspace/KDT_Final_Project/T3Q_projects_team_1_minsoo/streamlit/practice_code.ipynb#X41sZmlsZQ%3D%3D?line=4'>5</a>\u001b[0m \u001b[39mimport\u001b[39;00m \u001b[39mnumpy\u001b[39;00m \u001b[39mas\u001b[39;00m \u001b[39mnp\u001b[39;00m\n\u001b[0;32m      <a href='vscode-notebook-cell:/c%3A/minsoo-s/workspace/KDT_Final_Project/T3Q_projects_team_1_minsoo/streamlit/practice_code.ipynb#X41sZmlsZQ%3D%3D?line=6'>7</a>\u001b[0m f \u001b[39m=\u001b[39m \u001b[39m'\u001b[39m\u001b[39m./test3.jpg\u001b[39m\u001b[39m'\u001b[39m\n",
      "File \u001b[1;32mc:\\ProgramData\\Anaconda3\\lib\\site-packages\\pandas\\__init__.py:22\u001b[0m, in \u001b[0;36m<module>\u001b[1;34m\u001b[0m\n\u001b[0;32m     19\u001b[0m \u001b[39mdel\u001b[39;00m hard_dependencies, dependency, missing_dependencies\n\u001b[0;32m     21\u001b[0m \u001b[39m# numpy compat\u001b[39;00m\n\u001b[1;32m---> 22\u001b[0m \u001b[39mfrom\u001b[39;00m \u001b[39mpandas\u001b[39;00m\u001b[39m.\u001b[39;00m\u001b[39mcompat\u001b[39;00m \u001b[39mimport\u001b[39;00m is_numpy_dev \u001b[39mas\u001b[39;00m _is_numpy_dev\n\u001b[0;32m     24\u001b[0m \u001b[39mtry\u001b[39;00m:\n\u001b[0;32m     25\u001b[0m     \u001b[39mfrom\u001b[39;00m \u001b[39mpandas\u001b[39;00m\u001b[39m.\u001b[39;00m\u001b[39m_libs\u001b[39;00m \u001b[39mimport\u001b[39;00m hashtable \u001b[39mas\u001b[39;00m _hashtable, lib \u001b[39mas\u001b[39;00m _lib, tslib \u001b[39mas\u001b[39;00m _tslib\n",
      "File \u001b[1;32mc:\\ProgramData\\Anaconda3\\lib\\site-packages\\pandas\\compat\\__init__.py:15\u001b[0m, in \u001b[0;36m<module>\u001b[1;34m\u001b[0m\n\u001b[0;32m     12\u001b[0m \u001b[39mimport\u001b[39;00m \u001b[39msys\u001b[39;00m\n\u001b[0;32m     14\u001b[0m \u001b[39mfrom\u001b[39;00m \u001b[39mpandas\u001b[39;00m\u001b[39m.\u001b[39;00m\u001b[39m_typing\u001b[39;00m \u001b[39mimport\u001b[39;00m F\n\u001b[1;32m---> 15\u001b[0m \u001b[39mfrom\u001b[39;00m \u001b[39mpandas\u001b[39;00m\u001b[39m.\u001b[39;00m\u001b[39mcompat\u001b[39;00m\u001b[39m.\u001b[39;00m\u001b[39mnumpy\u001b[39;00m \u001b[39mimport\u001b[39;00m (\n\u001b[0;32m     16\u001b[0m     is_numpy_dev,\n\u001b[0;32m     17\u001b[0m     np_version_under1p19,\n\u001b[0;32m     18\u001b[0m     np_version_under1p20,\n\u001b[0;32m     19\u001b[0m )\n\u001b[0;32m     20\u001b[0m \u001b[39mfrom\u001b[39;00m \u001b[39mpandas\u001b[39;00m\u001b[39m.\u001b[39;00m\u001b[39mcompat\u001b[39;00m\u001b[39m.\u001b[39;00m\u001b[39mpyarrow\u001b[39;00m \u001b[39mimport\u001b[39;00m (\n\u001b[0;32m     21\u001b[0m     pa_version_under1p01,\n\u001b[0;32m     22\u001b[0m     pa_version_under2p0,\n\u001b[0;32m     23\u001b[0m     pa_version_under3p0,\n\u001b[0;32m     24\u001b[0m     pa_version_under4p0,\n\u001b[0;32m     25\u001b[0m )\n\u001b[0;32m     27\u001b[0m PY39 \u001b[39m=\u001b[39m sys\u001b[39m.\u001b[39mversion_info \u001b[39m>\u001b[39m\u001b[39m=\u001b[39m (\u001b[39m3\u001b[39m, \u001b[39m9\u001b[39m)\n",
      "File \u001b[1;32mc:\\ProgramData\\Anaconda3\\lib\\site-packages\\pandas\\compat\\numpy\\__init__.py:4\u001b[0m, in \u001b[0;36m<module>\u001b[1;34m\u001b[0m\n\u001b[0;32m      1\u001b[0m \u001b[39m\"\"\" support numpy compatibility across versions \"\"\"\u001b[39;00m\n\u001b[0;32m      2\u001b[0m \u001b[39mimport\u001b[39;00m \u001b[39mnumpy\u001b[39;00m \u001b[39mas\u001b[39;00m \u001b[39mnp\u001b[39;00m\n\u001b[1;32m----> 4\u001b[0m \u001b[39mfrom\u001b[39;00m \u001b[39mpandas\u001b[39;00m\u001b[39m.\u001b[39;00m\u001b[39mutil\u001b[39;00m\u001b[39m.\u001b[39;00m\u001b[39mversion\u001b[39;00m \u001b[39mimport\u001b[39;00m Version\n\u001b[0;32m      6\u001b[0m \u001b[39m# numpy versioning\u001b[39;00m\n\u001b[0;32m      7\u001b[0m _np_version \u001b[39m=\u001b[39m np\u001b[39m.\u001b[39m__version__\n",
      "File \u001b[1;32mc:\\ProgramData\\Anaconda3\\lib\\site-packages\\pandas\\util\\__init__.py:1\u001b[0m, in \u001b[0;36m<module>\u001b[1;34m\u001b[0m\n\u001b[1;32m----> 1\u001b[0m \u001b[39mfrom\u001b[39;00m \u001b[39mpandas\u001b[39;00m\u001b[39m.\u001b[39;00m\u001b[39mutil\u001b[39;00m\u001b[39m.\u001b[39;00m\u001b[39m_decorators\u001b[39;00m \u001b[39mimport\u001b[39;00m (  \u001b[39m# noqa:F401\u001b[39;00m\n\u001b[0;32m      2\u001b[0m     Appender,\n\u001b[0;32m      3\u001b[0m     Substitution,\n\u001b[0;32m      4\u001b[0m     cache_readonly,\n\u001b[0;32m      5\u001b[0m )\n\u001b[0;32m      7\u001b[0m \u001b[39mfrom\u001b[39;00m \u001b[39mpandas\u001b[39;00m\u001b[39m.\u001b[39;00m\u001b[39mcore\u001b[39;00m\u001b[39m.\u001b[39;00m\u001b[39mutil\u001b[39;00m\u001b[39m.\u001b[39;00m\u001b[39mhashing\u001b[39;00m \u001b[39mimport\u001b[39;00m (  \u001b[39m# noqa:F401\u001b[39;00m\n\u001b[0;32m      8\u001b[0m     hash_array,\n\u001b[0;32m      9\u001b[0m     hash_pandas_object,\n\u001b[0;32m     10\u001b[0m )\n\u001b[0;32m     13\u001b[0m \u001b[39mdef\u001b[39;00m \u001b[39m__getattr__\u001b[39m(name):\n",
      "File \u001b[1;32mc:\\ProgramData\\Anaconda3\\lib\\site-packages\\pandas\\util\\_decorators.py:14\u001b[0m, in \u001b[0;36m<module>\u001b[1;34m\u001b[0m\n\u001b[0;32m      6\u001b[0m \u001b[39mfrom\u001b[39;00m \u001b[39mtyping\u001b[39;00m \u001b[39mimport\u001b[39;00m (\n\u001b[0;32m      7\u001b[0m     Any,\n\u001b[0;32m      8\u001b[0m     Callable,\n\u001b[0;32m      9\u001b[0m     Mapping,\n\u001b[0;32m     10\u001b[0m     cast,\n\u001b[0;32m     11\u001b[0m )\n\u001b[0;32m     12\u001b[0m \u001b[39mimport\u001b[39;00m \u001b[39mwarnings\u001b[39;00m\n\u001b[1;32m---> 14\u001b[0m \u001b[39mfrom\u001b[39;00m \u001b[39mpandas\u001b[39;00m\u001b[39m.\u001b[39;00m\u001b[39m_libs\u001b[39;00m\u001b[39m.\u001b[39;00m\u001b[39mproperties\u001b[39;00m \u001b[39mimport\u001b[39;00m cache_readonly  \u001b[39m# noqa:F401\u001b[39;00m\n\u001b[0;32m     15\u001b[0m \u001b[39mfrom\u001b[39;00m \u001b[39mpandas\u001b[39;00m\u001b[39m.\u001b[39;00m\u001b[39m_typing\u001b[39;00m \u001b[39mimport\u001b[39;00m F\n\u001b[0;32m     18\u001b[0m \u001b[39mdef\u001b[39;00m \u001b[39mdeprecate\u001b[39m(\n\u001b[0;32m     19\u001b[0m     name: \u001b[39mstr\u001b[39m,\n\u001b[0;32m     20\u001b[0m     alternative: Callable[\u001b[39m.\u001b[39m\u001b[39m.\u001b[39m\u001b[39m.\u001b[39m, Any],\n\u001b[1;32m   (...)\u001b[0m\n\u001b[0;32m     25\u001b[0m     msg: \u001b[39mstr\u001b[39m \u001b[39m|\u001b[39m \u001b[39mNone\u001b[39;00m \u001b[39m=\u001b[39m \u001b[39mNone\u001b[39;00m,\n\u001b[0;32m     26\u001b[0m ) \u001b[39m-\u001b[39m\u001b[39m>\u001b[39m Callable[[F], F]:\n",
      "File \u001b[1;32mc:\\ProgramData\\Anaconda3\\lib\\site-packages\\pandas\\_libs\\__init__.py:13\u001b[0m, in \u001b[0;36m<module>\u001b[1;34m\u001b[0m\n\u001b[0;32m      1\u001b[0m __all__ \u001b[39m=\u001b[39m [\n\u001b[0;32m      2\u001b[0m     \u001b[39m\"\u001b[39m\u001b[39mNaT\u001b[39m\u001b[39m\"\u001b[39m,\n\u001b[0;32m      3\u001b[0m     \u001b[39m\"\u001b[39m\u001b[39mNaTType\u001b[39m\u001b[39m\"\u001b[39m,\n\u001b[1;32m   (...)\u001b[0m\n\u001b[0;32m      9\u001b[0m     \u001b[39m\"\u001b[39m\u001b[39mInterval\u001b[39m\u001b[39m\"\u001b[39m,\n\u001b[0;32m     10\u001b[0m ]\n\u001b[1;32m---> 13\u001b[0m \u001b[39mfrom\u001b[39;00m \u001b[39mpandas\u001b[39;00m\u001b[39m.\u001b[39;00m\u001b[39m_libs\u001b[39;00m\u001b[39m.\u001b[39;00m\u001b[39minterval\u001b[39;00m \u001b[39mimport\u001b[39;00m Interval\n\u001b[0;32m     14\u001b[0m \u001b[39mfrom\u001b[39;00m \u001b[39mpandas\u001b[39;00m\u001b[39m.\u001b[39;00m\u001b[39m_libs\u001b[39;00m\u001b[39m.\u001b[39;00m\u001b[39mtslibs\u001b[39;00m \u001b[39mimport\u001b[39;00m (\n\u001b[0;32m     15\u001b[0m     NaT,\n\u001b[0;32m     16\u001b[0m     NaTType,\n\u001b[1;32m   (...)\u001b[0m\n\u001b[0;32m     21\u001b[0m     iNaT,\n\u001b[0;32m     22\u001b[0m )\n",
      "File \u001b[1;32mc:\\ProgramData\\Anaconda3\\lib\\site-packages\\pandas\\_libs\\interval.pyx:1\u001b[0m, in \u001b[0;36minit pandas._libs.interval\u001b[1;34m()\u001b[0m\n",
      "File \u001b[1;32mc:\\ProgramData\\Anaconda3\\lib\\site-packages\\pandas\\_libs\\tslibs\\__init__.py:30\u001b[0m, in \u001b[0;36m<module>\u001b[1;34m\u001b[0m\n\u001b[0;32m      1\u001b[0m __all__ \u001b[39m=\u001b[39m [\n\u001b[0;32m      2\u001b[0m     \u001b[39m\"\u001b[39m\u001b[39mdtypes\u001b[39m\u001b[39m\"\u001b[39m,\n\u001b[0;32m      3\u001b[0m     \u001b[39m\"\u001b[39m\u001b[39mlocalize_pydatetime\u001b[39m\u001b[39m\"\u001b[39m,\n\u001b[1;32m   (...)\u001b[0m\n\u001b[0;32m     26\u001b[0m     \u001b[39m\"\u001b[39m\u001b[39mtz_compare\u001b[39m\u001b[39m\"\u001b[39m,\n\u001b[0;32m     27\u001b[0m ]\n\u001b[0;32m     29\u001b[0m \u001b[39mfrom\u001b[39;00m \u001b[39mpandas\u001b[39;00m\u001b[39m.\u001b[39;00m\u001b[39m_libs\u001b[39;00m\u001b[39m.\u001b[39;00m\u001b[39mtslibs\u001b[39;00m \u001b[39mimport\u001b[39;00m dtypes\n\u001b[1;32m---> 30\u001b[0m \u001b[39mfrom\u001b[39;00m \u001b[39mpandas\u001b[39;00m\u001b[39m.\u001b[39;00m\u001b[39m_libs\u001b[39;00m\u001b[39m.\u001b[39;00m\u001b[39mtslibs\u001b[39;00m\u001b[39m.\u001b[39;00m\u001b[39mconversion\u001b[39;00m \u001b[39mimport\u001b[39;00m (\n\u001b[0;32m     31\u001b[0m     OutOfBoundsTimedelta,\n\u001b[0;32m     32\u001b[0m     localize_pydatetime,\n\u001b[0;32m     33\u001b[0m )\n\u001b[0;32m     34\u001b[0m \u001b[39mfrom\u001b[39;00m \u001b[39mpandas\u001b[39;00m\u001b[39m.\u001b[39;00m\u001b[39m_libs\u001b[39;00m\u001b[39m.\u001b[39;00m\u001b[39mtslibs\u001b[39;00m\u001b[39m.\u001b[39;00m\u001b[39mdtypes\u001b[39;00m \u001b[39mimport\u001b[39;00m Resolution\n\u001b[0;32m     35\u001b[0m \u001b[39mfrom\u001b[39;00m \u001b[39mpandas\u001b[39;00m\u001b[39m.\u001b[39;00m\u001b[39m_libs\u001b[39;00m\u001b[39m.\u001b[39;00m\u001b[39mtslibs\u001b[39;00m\u001b[39m.\u001b[39;00m\u001b[39mnattype\u001b[39;00m \u001b[39mimport\u001b[39;00m (\n\u001b[0;32m     36\u001b[0m     NaT,\n\u001b[0;32m     37\u001b[0m     NaTType,\n\u001b[0;32m     38\u001b[0m     iNaT,\n\u001b[0;32m     39\u001b[0m     nat_strings,\n\u001b[0;32m     40\u001b[0m )\n",
      "File \u001b[1;32mc:\\ProgramData\\Anaconda3\\lib\\site-packages\\pandas\\_libs\\tslibs\\conversion.pyx:1\u001b[0m, in \u001b[0;36minit pandas._libs.tslibs.conversion\u001b[1;34m()\u001b[0m\n",
      "File \u001b[1;32mc:\\ProgramData\\Anaconda3\\lib\\site-packages\\pandas\\_libs\\tslibs\\timezones.pyx:43\u001b[0m, in \u001b[0;36minit pandas._libs.tslibs.timezones\u001b[1;34m()\u001b[0m\n",
      "File \u001b[1;32m~\\AppData\\Roaming\\Python\\Python39\\site-packages\\dateutil\\tz.py:938\u001b[0m, in \u001b[0;36mgettz\u001b[1;34m(name)\u001b[0m\n\u001b[0;32m    936\u001b[0m \u001b[39mif\u001b[39;00m tzwin:\n\u001b[0;32m    937\u001b[0m     \u001b[39mtry\u001b[39;00m:\n\u001b[1;32m--> 938\u001b[0m         tz \u001b[39m=\u001b[39m tzwin(name)\n\u001b[0;32m    939\u001b[0m     \u001b[39mexcept\u001b[39;00m \u001b[39mOSError\u001b[39;00m:\n\u001b[0;32m    940\u001b[0m         \u001b[39mpass\u001b[39;00m\n",
      "File \u001b[1;32m~\\AppData\\Roaming\\Python\\Python39\\site-packages\\dateutil\\tzwin.py:87\u001b[0m, in \u001b[0;36mtzwin.__init__\u001b[1;34m(self, name)\u001b[0m\n\u001b[0;32m     84\u001b[0m tzkey\u001b[39m.\u001b[39mClose()\n\u001b[0;32m     85\u001b[0m handle\u001b[39m.\u001b[39mClose()\n\u001b[1;32m---> 87\u001b[0m \u001b[39mself\u001b[39m\u001b[39m.\u001b[39m_stdname \u001b[39m=\u001b[39m keydict[\u001b[39m\"\u001b[39;49m\u001b[39mStd\u001b[39;49m\u001b[39m\"\u001b[39;49m]\u001b[39m.\u001b[39;49mencode(\u001b[39m\"\u001b[39;49m\u001b[39miso-8859-1\u001b[39;49m\u001b[39m\"\u001b[39;49m)\n\u001b[0;32m     88\u001b[0m \u001b[39mself\u001b[39m\u001b[39m.\u001b[39m_dstname \u001b[39m=\u001b[39m keydict[\u001b[39m\"\u001b[39m\u001b[39mDlt\u001b[39m\u001b[39m\"\u001b[39m]\u001b[39m.\u001b[39mencode(\u001b[39m\"\u001b[39m\u001b[39miso-8859-1\u001b[39m\u001b[39m\"\u001b[39m)\n\u001b[0;32m     90\u001b[0m \u001b[39mself\u001b[39m\u001b[39m.\u001b[39m_display \u001b[39m=\u001b[39m keydict[\u001b[39m\"\u001b[39m\u001b[39mDisplay\u001b[39m\u001b[39m\"\u001b[39m]\n",
      "\u001b[1;31mUnicodeEncodeError\u001b[0m: 'latin-1' codec can't encode characters in position 0-1: ordinal not in range(256)"
     ]
    }
   ],
   "source": [
    "# 이미지 위도, 경도\n",
    "from PIL import Image\n",
    "from PIL.ExifTags import TAGS\n",
    "import pandas as pd\n",
    "import numpy as np\n",
    "\n",
    "f = './test3.jpg'\n",
    "image = Image.open(f)\n",
    "info = image._getexif() # 이미지의 정보 추출\n",
    "image.close()\n",
    "taglabel = {}\n",
    "for tag, value in info.items():\n",
    "    decoded = TAGS.get(tag, tag)\n",
    "    taglabel[decoded] = value\n",
    "exifGPS = taglabel['GPSInfo']\n",
    "exifGPS"
   ]
  },
  {
   "cell_type": "code",
   "execution_count": null,
   "metadata": {},
   "outputs": [],
   "source": []
  }
 ],
 "metadata": {
  "kernelspec": {
   "display_name": "Python 3.8.13 ('EV_PY38_YOLOv5')",
   "language": "python",
   "name": "python3"
  },
  "language_info": {
   "codemirror_mode": {
    "name": "ipython",
    "version": 3
   },
   "file_extension": ".py",
   "mimetype": "text/x-python",
   "name": "python",
   "nbconvert_exporter": "python",
   "pygments_lexer": "ipython3",
   "version": "3.8.13"
  },
  "orig_nbformat": 4,
  "vscode": {
   "interpreter": {
    "hash": "bc6472e1bd2b63c7ab4bb27b41d9492121ae2cc6eae589bc296637b602f4a6f4"
   }
  }
 },
 "nbformat": 4,
 "nbformat_minor": 2
}
