{
 "cells": [
  {
   "cell_type": "code",
   "execution_count": 83,
   "metadata": {},
   "outputs": [],
   "source": [
    "#import streamlit as st \n",
    "import requests, json\n",
    "import pandas as pd\n",
    "import numpy as np\n",
    "#import pydeck as pdk"
   ]
  },
  {
   "cell_type": "markdown",
   "metadata": {},
   "source": [
    "# 실시간 위치 좌표 얻기\n",
    "---\n",
    "- 출처: https://parkgihyeon.github.io/project/geocoding-api/"
   ]
  },
  {
   "cell_type": "code",
   "execution_count": 84,
   "metadata": {},
   "outputs": [
    {
     "name": "stdout",
     "output_type": "stream",
     "text": [
      "{'lat': '35.8723', 'lng': '128.5924'}\n"
     ]
    }
   ],
   "source": [
    "# 현재위치 좌표 얻기\n",
    "import requests, json\n",
    "\n",
    "def current_location():\n",
    "    here_req = requests.get(\"http://www.geoplugin.net/json.gp\")\n",
    "\n",
    "    if (here_req.status_code != 200):\n",
    "        print(\"현재좌표를 불러올 수 없음\")\n",
    "    else:\n",
    "        location = json.loads(here_req.text)\n",
    "        crd = {\"lat\": str(location[\"geoplugin_latitude\"]), \"lng\": str(location[\"geoplugin_longitude\"])}\n",
    "\n",
    "    return crd\n",
    "\n",
    "crd = current_location()\n",
    "print(crd)"
   ]
  },
  {
   "cell_type": "code",
   "execution_count": 85,
   "metadata": {},
   "outputs": [
    {
     "name": "stdout",
     "output_type": "stream",
     "text": [
      "경상감영1길, 중구, 대구, 41934, 대한민국\n"
     ]
    }
   ],
   "source": [
    "# 가입 없이 좌표->주소 변환\n",
    "from geopy.geocoders import Nominatim\n",
    "\n",
    "def geocoding_reverse(lat_lng_str): \n",
    "    geolocoder = Nominatim(user_agent = 'South Korea', timeout=None)\n",
    "    address = geolocoder.reverse(lat_lng_str)\n",
    "\n",
    "    return address\n",
    "\n",
    "address = geocoding_reverse('35.8723, 128.5924')\n",
    "print(address)"
   ]
  },
  {
   "cell_type": "code",
   "execution_count": 86,
   "metadata": {},
   "outputs": [
    {
     "name": "stdout",
     "output_type": "stream",
     "text": [
      "35.8968175\n",
      "128.6194541\n"
     ]
    }
   ],
   "source": [
    "# 가입 없이 주소->좌표 변환 ###\n",
    "from geopy.geocoders import Nominatim\n",
    "\n",
    "def geocoding(address):\n",
    "    geolocoder = Nominatim(user_agent = 'South Korea', timeout=None)\n",
    "    geo = geolocoder.geocode(address)\n",
    "    crd = {\"lat\": str(geo.latitude), \"lng\": str(geo.longitude)}\n",
    "\n",
    "    return crd\n",
    "\n",
    "crd = geocoding(\"대구 복현동\")\n",
    "print(crd['lat'])\n",
    "print(crd['lng'])"
   ]
  },
  {
   "cell_type": "markdown",
   "metadata": {},
   "source": [
    "# 장소 마크 표시 및 개수 세기\n",
    "---- \n",
    "참고:https://haries.tistory.com/6"
   ]
  },
  {
   "cell_type": "markdown",
   "metadata": {},
   "source": [
    "# streamlit yolov5 \n",
    "---\n",
    "참고 : https://github.com/xugaoxiang/yolov5-streamlit"
   ]
  },
  {
   "cell_type": "markdown",
   "metadata": {},
   "source": [
    "# streamlit 드론 gps\n",
    "---\n",
    "참고: https://github.com/greattoe/ros_tutorial_kr/blob/master/ros1_tutorial/rospy/bebop2/bb2_5_mark_bebop2_on_web.md"
   ]
  },
  {
   "cell_type": "markdown",
   "metadata": {},
   "source": [
    "# 도로 CCTV 송출\n",
    "---\n",
    "참고: https://parkgihyeon.github.io/project/cctv-api/#2%EF%B8%8F%E2%83%A3-cctv-api%EB%A5%BC-%ED%98%B8%EC%B6%9C%ED%95%98%EB%8A%94-%EB%B0%A9%EB%B2%95"
   ]
  },
  {
   "cell_type": "markdown",
   "metadata": {},
   "source": [
    "# 수정코드\n",
    "---"
   ]
  },
  {
   "cell_type": "code",
   "execution_count": 87,
   "metadata": {},
   "outputs": [],
   "source": [
    "# 현재위치 좌표 얻기\n",
    "import requests, json\n",
    "import pandas as pd\n",
    "\n",
    "def current_location():\n",
    "    here_req = requests.get(\"http://www.geoplugin.net/json.gp\")\n",
    "\n",
    "    if (here_req.status_code != 200):\n",
    "        print(\"현재좌표를 불러올 수 없음\")\n",
    "    else:\n",
    "        location = json.loads(here_req.text)\n",
    "        crd = {float(location[\"geoplugin_latitude\"]), float(location[\"geoplugin_longitude\"])}\n",
    "        crd = list(crd)\n",
    "        gps = pd.DataFrame( [[crd[1],crd[0]]], columns=['위도','경도'])\n",
    "    \n",
    "    return gps"
   ]
  },
  {
   "cell_type": "code",
   "execution_count": 88,
   "metadata": {},
   "outputs": [
    {
     "data": {
      "text/html": [
       "<div>\n",
       "<style scoped>\n",
       "    .dataframe tbody tr th:only-of-type {\n",
       "        vertical-align: middle;\n",
       "    }\n",
       "\n",
       "    .dataframe tbody tr th {\n",
       "        vertical-align: top;\n",
       "    }\n",
       "\n",
       "    .dataframe thead th {\n",
       "        text-align: right;\n",
       "    }\n",
       "</style>\n",
       "<table border=\"1\" class=\"dataframe\">\n",
       "  <thead>\n",
       "    <tr style=\"text-align: right;\">\n",
       "      <th></th>\n",
       "      <th>위도</th>\n",
       "      <th>경도</th>\n",
       "    </tr>\n",
       "  </thead>\n",
       "  <tbody>\n",
       "    <tr>\n",
       "      <th>0</th>\n",
       "      <td>35.8723</td>\n",
       "      <td>128.5924</td>\n",
       "    </tr>\n",
       "  </tbody>\n",
       "</table>\n",
       "</div>"
      ],
      "text/plain": [
       "        위도        경도\n",
       "0  35.8723  128.5924"
      ]
     },
     "execution_count": 88,
     "metadata": {},
     "output_type": "execute_result"
    }
   ],
   "source": [
    "gps = current_location()\n",
    "gps"
   ]
  },
  {
   "cell_type": "code",
   "execution_count": 89,
   "metadata": {},
   "outputs": [],
   "source": [
    "# gps_all(기존) 불러오기\n",
    "gps_all = pd.read_csv('gps_all.csv')\n",
    "\n",
    "# gps_all(기존), gps(추가 갱신) 데이터프레임 결합 \n",
    "gps_all = pd.concat([gps_all,gps]).reset_index()\n",
    "gps_all = gps_all.drop('index',axis=1)\n",
    "\n",
    "# 중복 위치 제거\n",
    "gps_all = gps_all.drop_duplicates(['위도','경도'])\n",
    "# gps_all,len(gps_all,'개')\n",
    "\n",
    "# 추가 위치정보 저장된 데이터프레임 저장\n",
    "gps_all.to_csv('gps_all.csv',index = False)"
   ]
  },
  {
   "cell_type": "code",
   "execution_count": 90,
   "metadata": {},
   "outputs": [
    {
     "data": {
      "text/html": [
       "<div>\n",
       "<style scoped>\n",
       "    .dataframe tbody tr th:only-of-type {\n",
       "        vertical-align: middle;\n",
       "    }\n",
       "\n",
       "    .dataframe tbody tr th {\n",
       "        vertical-align: top;\n",
       "    }\n",
       "\n",
       "    .dataframe thead th {\n",
       "        text-align: right;\n",
       "    }\n",
       "</style>\n",
       "<table border=\"1\" class=\"dataframe\">\n",
       "  <thead>\n",
       "    <tr style=\"text-align: right;\">\n",
       "      <th></th>\n",
       "      <th>위도</th>\n",
       "      <th>경도</th>\n",
       "    </tr>\n",
       "  </thead>\n",
       "  <tbody>\n",
       "    <tr>\n",
       "      <th>0</th>\n",
       "      <td>35.8124</td>\n",
       "      <td>128.5125</td>\n",
       "    </tr>\n",
       "    <tr>\n",
       "      <th>1</th>\n",
       "      <td>35.8825</td>\n",
       "      <td>128.5726</td>\n",
       "    </tr>\n",
       "    <tr>\n",
       "      <th>2</th>\n",
       "      <td>35.8326</td>\n",
       "      <td>128.5327</td>\n",
       "    </tr>\n",
       "    <tr>\n",
       "      <th>3</th>\n",
       "      <td>35.8627</td>\n",
       "      <td>128.5428</td>\n",
       "    </tr>\n",
       "    <tr>\n",
       "      <th>4</th>\n",
       "      <td>35.8428</td>\n",
       "      <td>128.5529</td>\n",
       "    </tr>\n",
       "    <tr>\n",
       "      <th>5</th>\n",
       "      <td>35.8723</td>\n",
       "      <td>128.5924</td>\n",
       "    </tr>\n",
       "  </tbody>\n",
       "</table>\n",
       "</div>"
      ],
      "text/plain": [
       "        위도        경도\n",
       "0  35.8124  128.5125\n",
       "1  35.8825  128.5726\n",
       "2  35.8326  128.5327\n",
       "3  35.8627  128.5428\n",
       "4  35.8428  128.5529\n",
       "5  35.8723  128.5924"
      ]
     },
     "execution_count": 90,
     "metadata": {},
     "output_type": "execute_result"
    }
   ],
   "source": [
    "gps_all = pd.read_csv('gps_all.csv')\n",
    "gps_all"
   ]
  },
  {
   "cell_type": "code",
   "execution_count": 91,
   "metadata": {},
   "outputs": [
    {
     "name": "stdout",
     "output_type": "stream",
     "text": [
      "경상감영1길, 중구, 대구, 41934, 대한민국\n"
     ]
    }
   ],
   "source": [
    "# 가입 없이 좌표->주소 변환\n",
    "from geopy.geocoders import Nominatim\n",
    "\n",
    "def geocoding_reverse(lat_lng_str): \n",
    "    geolocoder = Nominatim(user_agent = 'South Korea', timeout=None)\n",
    "    address = geolocoder.reverse(lat_lng_str)\n",
    "\n",
    "    return address\n",
    "\n",
    "address = geocoding_reverse('35.8723, 128.5924')\n",
    "print(address)"
   ]
  },
  {
   "cell_type": "code",
   "execution_count": 92,
   "metadata": {},
   "outputs": [
    {
     "name": "stdout",
     "output_type": "stream",
     "text": [
      "35.8124,128.5125\n"
     ]
    }
   ],
   "source": [
    "#for i in range(7):\n",
    "lat = gps_all['위도'][0]\n",
    "lng = gps_all['경도'][0]\n",
    "print(f'{lat},{lng}')"
   ]
  },
  {
   "cell_type": "code",
   "execution_count": 117,
   "metadata": {},
   "outputs": [],
   "source": [
    "option='중구'"
   ]
  },
  {
   "cell_type": "code",
   "execution_count": 120,
   "metadata": {},
   "outputs": [],
   "source": [
    "# 가입 없이 좌표->주소 변환\n",
    "from geopy.geocoders import Nominatim\n",
    "\n",
    "def geocoding_reverse(lat_lng_str): \n",
    "    geolocoder = Nominatim(user_agent = 'South Korea', timeout=None)\n",
    "    address = geolocoder.reverse(lat_lng_str)\n",
    "\n",
    "    return address\n",
    "\n",
    "address_list = []\n",
    "for i in range(len(gps_all)):\n",
    "#    if option in gps_all.loc[i]:\n",
    "        lat = gps_all['위도'][i]\n",
    "        lng = gps_all['경도'][i]\n",
    "        address = geocoding_reverse(f'{lat}, {lng}')\n",
    "        address_list.append(address)"
   ]
  },
  {
   "cell_type": "code",
   "execution_count": 121,
   "metadata": {},
   "outputs": [
    {
     "data": {
      "text/html": [
       "<div>\n",
       "<style scoped>\n",
       "    .dataframe tbody tr th:only-of-type {\n",
       "        vertical-align: middle;\n",
       "    }\n",
       "\n",
       "    .dataframe tbody tr th {\n",
       "        vertical-align: top;\n",
       "    }\n",
       "\n",
       "    .dataframe thead th {\n",
       "        text-align: right;\n",
       "    }\n",
       "</style>\n",
       "<table border=\"1\" class=\"dataframe\">\n",
       "  <thead>\n",
       "    <tr style=\"text-align: right;\">\n",
       "      <th></th>\n",
       "      <th>주소</th>\n",
       "      <th>위치정보(위도,경도)</th>\n",
       "    </tr>\n",
       "  </thead>\n",
       "  <tbody>\n",
       "    <tr>\n",
       "      <th>0</th>\n",
       "      <td>대구유천초등학교, 달서대로, 유천동, 달서구, 대구, 42769, 대한민국</td>\n",
       "      <td>(35.812507, 128.512028)</td>\n",
       "    </tr>\n",
       "    <tr>\n",
       "      <th>1</th>\n",
       "      <td>달서로, 비산6동, 비산동, 서구, 대구, 41782, 대한민국</td>\n",
       "      <td>(35.88249340995197, 128.57261594921147)</td>\n",
       "    </tr>\n",
       "    <tr>\n",
       "      <th>2</th>\n",
       "      <td>구마로14남길, 월성센트로파크아파트, 월성동, 달서구, 대구, 42730, 대한민국</td>\n",
       "      <td>(35.832596088998464, 128.53256479938742)</td>\n",
       "    </tr>\n",
       "    <tr>\n",
       "      <th>3</th>\n",
       "      <td>27, 평리로35길, 서대구공단, 서구, 대구, 41844, 대한민국</td>\n",
       "      <td>(35.862623049999996, 128.542901)</td>\n",
       "    </tr>\n",
       "    <tr>\n",
       "      <th>4</th>\n",
       "      <td>야외음악당로, 송현2동, 성당동, 달서구, 대구, 42671, 대한민국</td>\n",
       "      <td>(35.84280009420493, 128.55287741436584)</td>\n",
       "    </tr>\n",
       "    <tr>\n",
       "      <th>5</th>\n",
       "      <td>경상감영1길, 중구, 대구, 41934, 대한민국</td>\n",
       "      <td>(35.87236884687725, 128.592956121765)</td>\n",
       "    </tr>\n",
       "  </tbody>\n",
       "</table>\n",
       "</div>"
      ],
      "text/plain": [
       "                                               주소  \\\n",
       "0       대구유천초등학교, 달서대로, 유천동, 달서구, 대구, 42769, 대한민국   \n",
       "1             달서로, 비산6동, 비산동, 서구, 대구, 41782, 대한민국   \n",
       "2  구마로14남길, 월성센트로파크아파트, 월성동, 달서구, 대구, 42730, 대한민국   \n",
       "3          27, 평리로35길, 서대구공단, 서구, 대구, 41844, 대한민국   \n",
       "4         야외음악당로, 송현2동, 성당동, 달서구, 대구, 42671, 대한민국   \n",
       "5                     경상감영1길, 중구, 대구, 41934, 대한민국   \n",
       "\n",
       "                                위치정보(위도,경도)  \n",
       "0                   (35.812507, 128.512028)  \n",
       "1   (35.88249340995197, 128.57261594921147)  \n",
       "2  (35.832596088998464, 128.53256479938742)  \n",
       "3          (35.862623049999996, 128.542901)  \n",
       "4   (35.84280009420493, 128.55287741436584)  \n",
       "5     (35.87236884687725, 128.592956121765)  "
      ]
     },
     "execution_count": 121,
     "metadata": {},
     "output_type": "execute_result"
    }
   ],
   "source": [
    "df = pd.DataFrame(address_list, columns=['주소','위치정보(위도,경도)'])\n",
    "\n",
    "df"
   ]
  },
  {
   "cell_type": "markdown",
   "metadata": {},
   "source": [
    "# 정규식으로 구별 현황 파악\n",
    "---"
   ]
  },
  {
   "cell_type": "code",
   "execution_count": 196,
   "metadata": {},
   "outputs": [],
   "source": [
    "option = '대구 전체'\n",
    "select_list =[]"
   ]
  },
  {
   "cell_type": "code",
   "execution_count": 156,
   "metadata": {},
   "outputs": [
    {
     "data": {
      "text/plain": [
       "6"
      ]
     },
     "execution_count": 156,
     "metadata": {},
     "output_type": "execute_result"
    }
   ],
   "source": [
    "gps_all = pd.read_csv('gps_all.csv')\n",
    "len(gps_all)"
   ]
  },
  {
   "cell_type": "code",
   "execution_count": 197,
   "metadata": {},
   "outputs": [],
   "source": [
    "address_list = []\n",
    "for i in range(len(gps_all)):                                                                                                                                                                                                                                                                                                                                                                                                                                                                                                                                                                                                                                                                                                                                                                                                                                                                                                                                                                                                                                                                                                                                                                \n",
    "    lat = gps_all['위도'][i]\n",
    "    lng = gps_all['경도'][i]\n",
    "    address = geocoding_reverse(f'{lat}, {lng}')\n",
    "    \n",
    "    # 카테고리 선택 \n",
    "    if option =='대구 전체':\n",
    "        address_list.append(address)\n",
    "    elif option in address[0]:\n",
    "        address_list.append(address)\n",
    "\n",
    "df = pd.DataFrame(address_list, columns=['주소','위치정보(위도,경도)'])\n"
   ]
  },
  {
   "cell_type": "code",
   "execution_count": 198,
   "metadata": {},
   "outputs": [
    {
     "data": {
      "text/plain": [
       "35.812507"
      ]
     },
     "execution_count": 198,
     "metadata": {},
     "output_type": "execute_result"
    }
   ],
   "source": [
    "df.loc[0][1][0]"
   ]
  },
  {
   "cell_type": "code",
   "execution_count": 199,
   "metadata": {},
   "outputs": [],
   "source": [
    "df_map = pd.DataFrame(columns=['주소','위도','경도'])\n",
    "for i in range(len(df)):\n",
    "    df_map.loc[i] = [df.loc[i]['주소'],df.loc[i][1][0],df.loc[i][1][1]]"
   ]
  },
  {
   "cell_type": "code",
   "execution_count": 200,
   "metadata": {},
   "outputs": [
    {
     "data": {
      "text/html": [
       "<div>\n",
       "<style scoped>\n",
       "    .dataframe tbody tr th:only-of-type {\n",
       "        vertical-align: middle;\n",
       "    }\n",
       "\n",
       "    .dataframe tbody tr th {\n",
       "        vertical-align: top;\n",
       "    }\n",
       "\n",
       "    .dataframe thead th {\n",
       "        text-align: right;\n",
       "    }\n",
       "</style>\n",
       "<table border=\"1\" class=\"dataframe\">\n",
       "  <thead>\n",
       "    <tr style=\"text-align: right;\">\n",
       "      <th></th>\n",
       "      <th>주소</th>\n",
       "      <th>위도</th>\n",
       "      <th>경도</th>\n",
       "    </tr>\n",
       "  </thead>\n",
       "  <tbody>\n",
       "    <tr>\n",
       "      <th>0</th>\n",
       "      <td>대구유천초등학교, 달서대로, 유천동, 달서구, 대구, 42769, 대한민국</td>\n",
       "      <td>35.812507</td>\n",
       "      <td>128.512028</td>\n",
       "    </tr>\n",
       "    <tr>\n",
       "      <th>1</th>\n",
       "      <td>달서로, 비산6동, 비산동, 서구, 대구, 41782, 대한민국</td>\n",
       "      <td>35.882493</td>\n",
       "      <td>128.572616</td>\n",
       "    </tr>\n",
       "    <tr>\n",
       "      <th>2</th>\n",
       "      <td>구마로14남길, 월성센트로파크아파트, 월성동, 달서구, 대구, 42730, 대한민국</td>\n",
       "      <td>35.832596</td>\n",
       "      <td>128.532565</td>\n",
       "    </tr>\n",
       "    <tr>\n",
       "      <th>3</th>\n",
       "      <td>27, 평리로35길, 서대구공단, 서구, 대구, 41844, 대한민국</td>\n",
       "      <td>35.862623</td>\n",
       "      <td>128.542901</td>\n",
       "    </tr>\n",
       "    <tr>\n",
       "      <th>4</th>\n",
       "      <td>야외음악당로, 송현2동, 성당동, 달서구, 대구, 42671, 대한민국</td>\n",
       "      <td>35.842800</td>\n",
       "      <td>128.552877</td>\n",
       "    </tr>\n",
       "    <tr>\n",
       "      <th>5</th>\n",
       "      <td>경상감영1길, 중구, 대구, 41934, 대한민국</td>\n",
       "      <td>35.872369</td>\n",
       "      <td>128.592956</td>\n",
       "    </tr>\n",
       "  </tbody>\n",
       "</table>\n",
       "</div>"
      ],
      "text/plain": [
       "                                               주소         위도          경도\n",
       "0       대구유천초등학교, 달서대로, 유천동, 달서구, 대구, 42769, 대한민국  35.812507  128.512028\n",
       "1             달서로, 비산6동, 비산동, 서구, 대구, 41782, 대한민국  35.882493  128.572616\n",
       "2  구마로14남길, 월성센트로파크아파트, 월성동, 달서구, 대구, 42730, 대한민국  35.832596  128.532565\n",
       "3          27, 평리로35길, 서대구공단, 서구, 대구, 41844, 대한민국  35.862623  128.542901\n",
       "4         야외음악당로, 송현2동, 성당동, 달서구, 대구, 42671, 대한민국  35.842800  128.552877\n",
       "5                     경상감영1길, 중구, 대구, 41934, 대한민국  35.872369  128.592956"
      ]
     },
     "execution_count": 200,
     "metadata": {},
     "output_type": "execute_result"
    }
   ],
   "source": [
    "df_map"
   ]
  },
  {
   "cell_type": "code",
   "execution_count": null,
   "metadata": {},
   "outputs": [],
   "source": []
  },
  {
   "cell_type": "markdown",
   "metadata": {},
   "source": [
    "# geopandas\n",
    "---"
   ]
  },
  {
   "cell_type": "code",
   "execution_count": 95,
   "metadata": {},
   "outputs": [
    {
     "data": {
      "text/html": [
       "<div>\n",
       "<style scoped>\n",
       "    .dataframe tbody tr th:only-of-type {\n",
       "        vertical-align: middle;\n",
       "    }\n",
       "\n",
       "    .dataframe tbody tr th {\n",
       "        vertical-align: top;\n",
       "    }\n",
       "\n",
       "    .dataframe thead th {\n",
       "        text-align: right;\n",
       "    }\n",
       "</style>\n",
       "<table border=\"1\" class=\"dataframe\">\n",
       "  <thead>\n",
       "    <tr style=\"text-align: right;\">\n",
       "      <th></th>\n",
       "      <th>EMD_CD</th>\n",
       "      <th>EMD_NM</th>\n",
       "      <th>SGG_OID</th>\n",
       "      <th>COL_ADM_SE</th>\n",
       "      <th>GID</th>\n",
       "      <th>geometry</th>\n",
       "    </tr>\n",
       "  </thead>\n",
       "  <tbody>\n",
       "    <tr>\n",
       "      <th>199</th>\n",
       "      <td>27290105</td>\n",
       "      <td>호림동</td>\n",
       "      <td>708</td>\n",
       "      <td>27290</td>\n",
       "      <td>2449</td>\n",
       "      <td>POLYGON ((1088106.230 1760762.433, 1088128.791...</td>\n",
       "    </tr>\n",
       "    <tr>\n",
       "      <th>200</th>\n",
       "      <td>27290104</td>\n",
       "      <td>파호동</td>\n",
       "      <td>33</td>\n",
       "      <td>27290</td>\n",
       "      <td>2450</td>\n",
       "      <td>POLYGON ((1088331.513 1760765.746, 1088331.321...</td>\n",
       "    </tr>\n",
       "    <tr>\n",
       "      <th>201</th>\n",
       "      <td>27110149</td>\n",
       "      <td>태평로2가</td>\n",
       "      <td>582</td>\n",
       "      <td>27110</td>\n",
       "      <td>2575</td>\n",
       "      <td>POLYGON ((1098824.688 1764977.063, 1098843.750...</td>\n",
       "    </tr>\n",
       "    <tr>\n",
       "      <th>202</th>\n",
       "      <td>27110148</td>\n",
       "      <td>동성로1가</td>\n",
       "      <td>581</td>\n",
       "      <td>27110</td>\n",
       "      <td>2576</td>\n",
       "      <td>POLYGON ((1098943.361 1764708.909, 1098942.878...</td>\n",
       "    </tr>\n",
       "    <tr>\n",
       "      <th>203</th>\n",
       "      <td>27110147</td>\n",
       "      <td>대안동</td>\n",
       "      <td>580</td>\n",
       "      <td>27110</td>\n",
       "      <td>2577</td>\n",
       "      <td>POLYGON ((1098659.271 1764647.397, 1098658.448...</td>\n",
       "    </tr>\n",
       "  </tbody>\n",
       "</table>\n",
       "</div>"
      ],
      "text/plain": [
       "       EMD_CD EMD_NM  SGG_OID COL_ADM_SE   GID  \\\n",
       "199  27290105    호림동      708      27290  2449   \n",
       "200  27290104    파호동       33      27290  2450   \n",
       "201  27110149  태평로2가      582      27110  2575   \n",
       "202  27110148  동성로1가      581      27110  2576   \n",
       "203  27110147    대안동      580      27110  2577   \n",
       "\n",
       "                                              geometry  \n",
       "199  POLYGON ((1088106.230 1760762.433, 1088128.791...  \n",
       "200  POLYGON ((1088331.513 1760765.746, 1088331.321...  \n",
       "201  POLYGON ((1098824.688 1764977.063, 1098843.750...  \n",
       "202  POLYGON ((1098943.361 1764708.909, 1098942.878...  \n",
       "203  POLYGON ((1098659.271 1764647.397, 1098658.448...  "
      ]
     },
     "execution_count": 95,
     "metadata": {},
     "output_type": "execute_result"
    }
   ],
   "source": [
    "import geopandas as gpd\n",
    "import pydeck as pdk\n",
    "\n",
    "Daegu_file = \"../LSMD_ADM_SECT_UMD_대구/LSMD_ADM_SECT_UMD_27.shp\"\n",
    "df = gpd.read_file(Daegu_file, encoding='euckr')\n",
    "df.tail()"
   ]
  },
  {
   "cell_type": "code",
   "execution_count": 96,
   "metadata": {},
   "outputs": [
    {
     "data": {
      "text/plain": [
       "<AxesSubplot:>"
      ]
     },
     "execution_count": 96,
     "metadata": {},
     "output_type": "execute_result"
    },
    {
     "data": {
      "image/png": "[encoded data removed]",
      "text/plain": [
       "<Figure size 640x480 with 1 Axes>"
      ]
     },
     "metadata": {},
     "output_type": "display_data"
    }
   ],
   "source": [
    "df.plot()"
   ]
  },
  {
   "cell_type": "code",
   "execution_count": 97,
   "metadata": {},
   "outputs": [],
   "source": [
    "def multipolygon_to_coordinates(x):\n",
    "    lon, lat = x[0].exterior.xy\n",
    "    return [[x, y] for x, y in zip(lon, lat)]"
   ]
  },
  {
   "cell_type": "code",
   "execution_count": 98,
   "metadata": {},
   "outputs": [
    {
     "ename": "TypeError",
     "evalue": "'Polygon' object is not subscriptable",
     "output_type": "error",
     "traceback": [
      "\u001b[1;31m---------------------------------------------------------------------------\u001b[0m",
      "\u001b[1;31mTypeError\u001b[0m                                 Traceback (most recent call last)",
      "\u001b[1;32mc:\\minsoo-s\\workspace\\KDT_Final_Project\\T3Q_projects_team_1_minsoo\\streamlit\\LOCATION.ipynb 셀 24\u001b[0m in \u001b[0;36m<cell line: 1>\u001b[1;34m()\u001b[0m\n\u001b[1;32m----> <a href='vscode-notebook-cell:/c%3A/minsoo-s/workspace/KDT_Final_Project/T3Q_projects_team_1_minsoo/streamlit/LOCATION.ipynb#X32sZmlsZQ%3D%3D?line=0'>1</a>\u001b[0m df[\u001b[39m'\u001b[39m\u001b[39mcoordinates\u001b[39m\u001b[39m'\u001b[39m] \u001b[39m=\u001b[39m df[\u001b[39m'\u001b[39;49m\u001b[39mgeometry\u001b[39;49m\u001b[39m'\u001b[39;49m]\u001b[39m.\u001b[39;49mapply(multipolygon_to_coordinates)\n\u001b[0;32m      <a href='vscode-notebook-cell:/c%3A/minsoo-s/workspace/KDT_Final_Project/T3Q_projects_team_1_minsoo/streamlit/LOCATION.ipynb#X32sZmlsZQ%3D%3D?line=1'>2</a>\u001b[0m \u001b[39mdel\u001b[39;00m df[\u001b[39m'\u001b[39m\u001b[39mgeometry\u001b[39m\u001b[39m'\u001b[39m]\n",
      "File \u001b[1;32m~\\AppData\\Roaming\\Python\\Python39\\site-packages\\geopandas\\geoseries.py:645\u001b[0m, in \u001b[0;36mGeoSeries.apply\u001b[1;34m(self, func, convert_dtype, args, **kwargs)\u001b[0m\n\u001b[0;32m    643\u001b[0m \u001b[39m@doc\u001b[39m(pd\u001b[39m.\u001b[39mSeries)\n\u001b[0;32m    644\u001b[0m \u001b[39mdef\u001b[39;00m \u001b[39mapply\u001b[39m(\u001b[39mself\u001b[39m, func, convert_dtype\u001b[39m=\u001b[39m\u001b[39mTrue\u001b[39;00m, args\u001b[39m=\u001b[39m(), \u001b[39m*\u001b[39m\u001b[39m*\u001b[39mkwargs):\n\u001b[1;32m--> 645\u001b[0m     result \u001b[39m=\u001b[39m \u001b[39msuper\u001b[39m()\u001b[39m.\u001b[39mapply(func, convert_dtype\u001b[39m=\u001b[39mconvert_dtype, args\u001b[39m=\u001b[39margs, \u001b[39m*\u001b[39m\u001b[39m*\u001b[39mkwargs)\n\u001b[0;32m    646\u001b[0m     \u001b[39mif\u001b[39;00m \u001b[39misinstance\u001b[39m(result, GeoSeries):\n\u001b[0;32m    647\u001b[0m         \u001b[39mif\u001b[39;00m \u001b[39mself\u001b[39m\u001b[39m.\u001b[39mcrs \u001b[39mis\u001b[39;00m \u001b[39mnot\u001b[39;00m \u001b[39mNone\u001b[39;00m:\n",
      "File \u001b[1;32mc:\\ProgramData\\Anaconda3\\lib\\site-packages\\pandas\\core\\series.py:4433\u001b[0m, in \u001b[0;36mSeries.apply\u001b[1;34m(self, func, convert_dtype, args, **kwargs)\u001b[0m\n\u001b[0;32m   4323\u001b[0m \u001b[39mdef\u001b[39;00m \u001b[39mapply\u001b[39m(\n\u001b[0;32m   4324\u001b[0m     \u001b[39mself\u001b[39m,\n\u001b[0;32m   4325\u001b[0m     func: AggFuncType,\n\u001b[1;32m   (...)\u001b[0m\n\u001b[0;32m   4328\u001b[0m     \u001b[39m*\u001b[39m\u001b[39m*\u001b[39mkwargs,\n\u001b[0;32m   4329\u001b[0m ) \u001b[39m-\u001b[39m\u001b[39m>\u001b[39m DataFrame \u001b[39m|\u001b[39m Series:\n\u001b[0;32m   4330\u001b[0m     \u001b[39m\"\"\"\u001b[39;00m\n\u001b[0;32m   4331\u001b[0m \u001b[39m    Invoke function on values of Series.\u001b[39;00m\n\u001b[0;32m   4332\u001b[0m \n\u001b[1;32m   (...)\u001b[0m\n\u001b[0;32m   4431\u001b[0m \u001b[39m    dtype: float64\u001b[39;00m\n\u001b[0;32m   4432\u001b[0m \u001b[39m    \"\"\"\u001b[39;00m\n\u001b[1;32m-> 4433\u001b[0m     \u001b[39mreturn\u001b[39;00m SeriesApply(\u001b[39mself\u001b[39;49m, func, convert_dtype, args, kwargs)\u001b[39m.\u001b[39;49mapply()\n",
      "File \u001b[1;32mc:\\ProgramData\\Anaconda3\\lib\\site-packages\\pandas\\core\\apply.py:1088\u001b[0m, in \u001b[0;36mSeriesApply.apply\u001b[1;34m(self)\u001b[0m\n\u001b[0;32m   1084\u001b[0m \u001b[39mif\u001b[39;00m \u001b[39misinstance\u001b[39m(\u001b[39mself\u001b[39m\u001b[39m.\u001b[39mf, \u001b[39mstr\u001b[39m):\n\u001b[0;32m   1085\u001b[0m     \u001b[39m# if we are a string, try to dispatch\u001b[39;00m\n\u001b[0;32m   1086\u001b[0m     \u001b[39mreturn\u001b[39;00m \u001b[39mself\u001b[39m\u001b[39m.\u001b[39mapply_str()\n\u001b[1;32m-> 1088\u001b[0m \u001b[39mreturn\u001b[39;00m \u001b[39mself\u001b[39;49m\u001b[39m.\u001b[39;49mapply_standard()\n",
      "File \u001b[1;32mc:\\ProgramData\\Anaconda3\\lib\\site-packages\\pandas\\core\\apply.py:1143\u001b[0m, in \u001b[0;36mSeriesApply.apply_standard\u001b[1;34m(self)\u001b[0m\n\u001b[0;32m   1137\u001b[0m         values \u001b[39m=\u001b[39m obj\u001b[39m.\u001b[39mastype(\u001b[39mobject\u001b[39m)\u001b[39m.\u001b[39m_values\n\u001b[0;32m   1138\u001b[0m         \u001b[39m# error: Argument 2 to \"map_infer\" has incompatible type\u001b[39;00m\n\u001b[0;32m   1139\u001b[0m         \u001b[39m# \"Union[Callable[..., Any], str, List[Union[Callable[..., Any], str]],\u001b[39;00m\n\u001b[0;32m   1140\u001b[0m         \u001b[39m# Dict[Hashable, Union[Union[Callable[..., Any], str],\u001b[39;00m\n\u001b[0;32m   1141\u001b[0m         \u001b[39m# List[Union[Callable[..., Any], str]]]]]\"; expected\u001b[39;00m\n\u001b[0;32m   1142\u001b[0m         \u001b[39m# \"Callable[[Any], Any]\"\u001b[39;00m\n\u001b[1;32m-> 1143\u001b[0m         mapped \u001b[39m=\u001b[39m lib\u001b[39m.\u001b[39;49mmap_infer(\n\u001b[0;32m   1144\u001b[0m             values,\n\u001b[0;32m   1145\u001b[0m             f,  \u001b[39m# type: ignore[arg-type]\u001b[39;49;00m\n\u001b[0;32m   1146\u001b[0m             convert\u001b[39m=\u001b[39;49m\u001b[39mself\u001b[39;49m\u001b[39m.\u001b[39;49mconvert_dtype,\n\u001b[0;32m   1147\u001b[0m         )\n\u001b[0;32m   1149\u001b[0m \u001b[39mif\u001b[39;00m \u001b[39mlen\u001b[39m(mapped) \u001b[39mand\u001b[39;00m \u001b[39misinstance\u001b[39m(mapped[\u001b[39m0\u001b[39m], ABCSeries):\n\u001b[0;32m   1150\u001b[0m     \u001b[39m# GH#43986 Need to do list(mapped) in order to get treated as nested\u001b[39;00m\n\u001b[0;32m   1151\u001b[0m     \u001b[39m#  See also GH#25959 regarding EA support\u001b[39;00m\n\u001b[0;32m   1152\u001b[0m     \u001b[39mreturn\u001b[39;00m obj\u001b[39m.\u001b[39m_constructor_expanddim(\u001b[39mlist\u001b[39m(mapped), index\u001b[39m=\u001b[39mobj\u001b[39m.\u001b[39mindex)\n",
      "File \u001b[1;32mc:\\ProgramData\\Anaconda3\\lib\\site-packages\\pandas\\_libs\\lib.pyx:2870\u001b[0m, in \u001b[0;36mpandas._libs.lib.map_infer\u001b[1;34m()\u001b[0m\n",
      "\u001b[1;32mc:\\minsoo-s\\workspace\\KDT_Final_Project\\T3Q_projects_team_1_minsoo\\streamlit\\LOCATION.ipynb 셀 24\u001b[0m in \u001b[0;36mmultipolygon_to_coordinates\u001b[1;34m(x)\u001b[0m\n\u001b[0;32m      <a href='vscode-notebook-cell:/c%3A/minsoo-s/workspace/KDT_Final_Project/T3Q_projects_team_1_minsoo/streamlit/LOCATION.ipynb#X32sZmlsZQ%3D%3D?line=0'>1</a>\u001b[0m \u001b[39mdef\u001b[39;00m \u001b[39mmultipolygon_to_coordinates\u001b[39m(x):\n\u001b[1;32m----> <a href='vscode-notebook-cell:/c%3A/minsoo-s/workspace/KDT_Final_Project/T3Q_projects_team_1_minsoo/streamlit/LOCATION.ipynb#X32sZmlsZQ%3D%3D?line=1'>2</a>\u001b[0m     lon, lat \u001b[39m=\u001b[39m x[\u001b[39m0\u001b[39;49m]\u001b[39m.\u001b[39mexterior\u001b[39m.\u001b[39mxy\n\u001b[0;32m      <a href='vscode-notebook-cell:/c%3A/minsoo-s/workspace/KDT_Final_Project/T3Q_projects_team_1_minsoo/streamlit/LOCATION.ipynb#X32sZmlsZQ%3D%3D?line=2'>3</a>\u001b[0m     \u001b[39mreturn\u001b[39;00m [[x, y] \u001b[39mfor\u001b[39;00m x, y \u001b[39min\u001b[39;00m \u001b[39mzip\u001b[39m(lon, lat)]\n",
      "\u001b[1;31mTypeError\u001b[0m: 'Polygon' object is not subscriptable"
     ]
    }
   ],
   "source": [
    "df['coordinates'] = df['geometry'].apply(multipolygon_to_coordinates)\n",
    "del df['geometry']"
   ]
  },
  {
   "cell_type": "code",
   "execution_count": null,
   "metadata": {},
   "outputs": [
    {
     "data": {
      "application/vnd.jupyter.widget-view+json": {
       "model_id": "324981318e024750ac42b714184a51ab",
       "version_major": 2,
       "version_minor": 0
      },
      "text/plain": [
       "DeckGLWidget(carto_key=None, custom_libraries=[], google_maps_key=None, json_input='{\\n  \"initialViewState\": {…"
      ]
     },
     "metadata": {},
     "output_type": "display_data"
    }
   ],
   "source": [
    "# Make layer\n",
    "layer = pdk.Layer(\n",
    "    'PolygonLayer', # 사용할 Layer 타입\n",
    "    df, # 시각화에 쓰일 데이터프레임\n",
    "    get_polygon='coordinates', # geometry 정보를 담고있는 컬럼 이름\n",
    "    get_fill_color='[0, 255*정규화인구, 0]', # 각 데이터 별 rgb 또는 rgba 값 (0~255)\n",
    "    pickable=True, # 지도와 interactive 한 동작 on\n",
    "    auto_highlight=True # 마우스 오버(hover) 시 박스 출력\n",
    ")\n",
    "\n",
    "# Set the viewport location\n",
    "center = [126.986, 37.565]\n",
    "view_state = pdk.ViewState(\n",
    "    longitude=center[0],\n",
    "    latitude=center[1],\n",
    "    zoom=10)\n",
    "\n",
    "# Render\n",
    "r = pdk.Deck(layers=[layer], initial_view_state=view_state)\n",
    "r.show()"
   ]
  },
  {
   "cell_type": "code",
   "execution_count": null,
   "metadata": {},
   "outputs": [
    {
     "data": {
      "image/svg+xml": "<svg xmlns=\"http://www.w3.org/2000/svg\" xmlns:xlink=\"http://www.w3.org/1999/xlink\" width=\"300\" height=\"246.81752942036837\" viewBox=\"1098149.324813285 1764327.5039741648 351.94155872031115 246.81752942036837\" preserveAspectRatio=\"xMinYMin meet\"><g transform=\"matrix(1,0,0,-1,0,3528901.82547775)\"><path fill-rule=\"evenodd\" fill=\"#66cc99\" stroke=\"#555555\" stroke-width=\"2.3462770581354078\" opacity=\"0.6\" d=\"M 1098398.91558008,1764559.50061518 L 1098417.78051844,1764560.31824314 L 1098427.12690856,1764561.28663104 L 1098439.06280203,1764559.78225469 L 1098440.08037144,1764559.73289449 L 1098441.70635644,1764558.9330193 L 1098442.35874362,1764558.96503452 L 1098446.0054069,1764545.79249456 L 1098449.30881357,1764533.16158113 L 1098450.64690573,1764528.38702111 L 1098451.33898944,1764522.318778 L 1098451.55032239,1764520.27640319 L 1098451.4127671,1764516.34302015 L 1098450.58795936,1764516.27536315 L 1098450.35872472,1764515.96789902 L 1098450.14097146,1764515.43365334 L 1098451.09960995,1764509.58646363 L 1098452.75120423,1764499.24175264 L 1098453.61069679,1764493.86095337 L 1098460.92939329,1764494.96416779 L 1098461.6068788,1764494.46866626 L 1098464.47493407,1764486.03228626 L 1098484.69242051,1764488.2304295 L 1098488.23149946,1764426.33526957 L 1098483.20248822,1764426.00608346 L 1098475.59820904,1764423.96765748 L 1098475.92630731,1764421.35318212 L 1098464.93239034,1764419.65762689 L 1098459.0531247,1764418.83447241 L 1098458.5453062,1764418.7636853 L 1098459.48140355,1764413.66800948 L 1098459.7556708,1764412.47544357 L 1098459.92823733,1764409.96256048 L 1098459.75211849,1764407.95422788 L 1098459.95300616,1764405.81071127 L 1098459.31250408,1764405.13499838 L 1098459.87507394,1764403.1380101 L 1098458.20241789,1764402.28947516 L 1098456.70820995,1764402.5814696 L 1098455.47440559,1764402.51852976 L 1098454.04766364,1764402.32365083 L 1098453.37427583,1764401.38048246 L 1098449.95663276,1764401.65893501 L 1098447.57911311,1764402.2423075 L 1098438.24656066,1764401.21914725 L 1098435.30374008,1764401.76384375 L 1098434.95444666,1764401.3965467 L 1098434.97330938,1764400.0380886 L 1098430.96126436,1764399.50356191 L 1098430.3710105,1764398.55067238 L 1098430.10947867,1764391.3619897 L 1098430.00992642,1764391.00852618 L 1098419.91324944,1764389.93763809 L 1098416.52565314,1764389.56167378 L 1098412.25586763,1764389.46910625 L 1098411.53761753,1764389.49406915 L 1098406.7678757,1764389.46980952 L 1098397.21431314,1764389.68702463 L 1098394.9320668,1764389.34003334 L 1098394.12306703,1764388.11283491 L 1098392.79926112,1764382.64751628 L 1098385.4559514,1764382.88667737 L 1098374.9172981,1764383.12175818 L 1098374.34016401,1764382.81195088 L 1098373.30340128,1764377.73097023 L 1098372.88899945,1764376.32986533 L 1098372.16960565,1764373.89026869 L 1098371.23095512,1764370.49348214 L 1098370.69830536,1764368.32870288 L 1098369.87976399,1764362.90513792 L 1098369.75430523,1764361.63444701 L 1098369.66544066,1764360.71525287 L 1098370.27660161,1764359.72082516 L 1098369.70638602,1764359.35113531 L 1098361.3227219,1764360.92806835 L 1098357.63375964,1764361.62127667 L 1098357.68246511,1764362.29090032 L 1098358.1869512,1764369.28434931 L 1098358.92490171,1764369.86457647 L 1098359.06215225,1764371.01847017 L 1098359.1251092,1764371.54134001 L 1098356.903724,1764370.42142741 L 1098351.8700971,1764368.24451495 L 1098350.5572472,1764373.7193316 L 1098348.42409658,1764372.97370473 L 1098346.82224824,1764372.91811045 L 1098341.59674168,1764373.86067069 L 1098336.2442196,1764373.95943683 L 1098331.51690288,1764373.77685852 L 1098323.68076765,1764373.29458407 L 1098324.06024944,1764379.89918453 L 1098323.6453047,1764382.83026574 L 1098321.17722829,1764382.99532496 L 1098317.08491033,1764383.00046529 L 1098313.22496337,1764382.71822834 L 1098309.52748072,1764382.79442019 L 1098309.42260292,1764382.26690739 L 1098308.04542609,1764382.09978481 L 1098307.10128397,1764382.57619399 L 1098305.41298583,1764390.62376412 L 1098300.82577468,1764389.13058148 L 1098294.51235569,1764386.56508355 L 1098290.01801396,1764385.6652171 L 1098287.35596889,1764386.22122411 L 1098286.33766791,1764385.92763746 L 1098282.52222882,1764384.63527216 L 1098281.39474301,1764385.46179993 L 1098271.81986018,1764381.92438653 L 1098263.69153845,1764379.04906948 L 1098264.21591703,1764375.11185711 L 1098265.1328745,1764368.59315546 L 1098265.44544563,1764363.92982487 L 1098266.30578393,1764360.9026034 L 1098266.57868346,1764360.31990366 L 1098266.93988072,1764355.68031552 L 1098266.10695804,1764354.64371477 L 1098266.87074714,1764349.17946401 L 1098267.64220903,1764342.56454533 L 1098263.13759905,1764341.81249436 L 1098262.97439219,1764342.41387552 L 1098250.36751909,1764341.32143689 L 1098245.24149416,1764340.53884671 L 1098244.67318206,1764345.64416649 L 1098240.88302583,1764345.50497541 L 1098239.22061648,1764345.35646838 L 1098236.7891325,1764345.22214568 L 1098231.70369674,1764344.66113764 L 1098230.62974368,1764344.41068833 L 1098228.02763801,1764358.25114112 L 1098225.32748256,1764358.09869488 L 1098216.60076904,1764356.36297518 L 1098213.07334221,1764356.56375617 L 1098211.4453089,1764356.06484242 L 1098210.40327412,1764357.25161548 L 1098210.25519395,1764359.34195136 L 1098210.06127957,1764361.16163367 L 1098209.34570847,1764364.65799076 L 1098204.3126457,1764364.46271872 L 1098198.57741168,1764364.02670613 L 1098192.66194737,1764364.19381275 L 1098191.58110198,1764364.39217385 L 1098189.92473353,1764364.69667506 L 1098185.81262714,1764364.75350202 L 1098184.58393279,1764364.81361792 L 1098181.21154125,1764364.74982947 L 1098178.2320606,1764364.68707599 L 1098174.36457997,1764364.96062001 L 1098167.40413639,1764365.46461274 L 1098162.35968583,1764366.07601531 L 1098164.05039007,1764392.11612744 L 1098170.01343208,1764393.01755291 L 1098176.82574046,1764392.5892713 L 1098175.83793256,1764399.55479935 L 1098183.57988332,1764399.85466163 L 1098190.98803253,1764401.12221625 L 1098192.86897952,1764401.81897814 L 1098194.50638675,1764401.51218631 L 1098197.58112381,1764402.85916392 L 1098200.32720343,1764404.90396321 L 1098204.73219874,1764405.30655002 L 1098212.34904179,1764406.46133145 L 1098215.20234328,1764407.57895062 L 1098214.25564238,1764411.2167311 L 1098213.88270681,1764415.70916549 L 1098212.65979218,1764420.21054226 L 1098212.42763673,1764421.06981614 L 1098211.81790902,1764426.13750607 L 1098211.29177846,1764426.73831257 L 1098211.30253931,1764427.73029298 L 1098211.63274567,1764430.83778592 L 1098211.19719703,1764436.15210531 L 1098211.92766305,1764439.75865338 L 1098212.78192369,1764443.9629916 L 1098213.13020157,1764446.0239572 L 1098216.57420076,1764451.45084706 L 1098220.85567499,1764462.50055328 L 1098223.01229676,1764462.30371663 L 1098227.99583218,1764482.06458426 L 1098229.20890542,1764482.11020918 L 1098233.18416176,1764498.5812027 L 1098234.21274772,1764503.34811433 L 1098236.0095456,1764503.46969154 L 1098236.88597923,1764505.90470048 L 1098237.77776069,1764510.07462201 L 1098238.81568179,1764514.29877825 L 1098238.09262264,1764518.47789315 L 1098231.9173132,1764521.50247303 L 1098225.55891397,1764524.60022677 L 1098222.11690736,1764526.33503205 L 1098224.16877632,1764531.98249787 L 1098227.64601684,1764538.95561148 L 1098228.34566413,1764540.27211328 L 1098229.37757365,1764541.11180769 L 1098230.14875694,1764541.74153629 L 1098244.20595517,1764546.8965047 L 1098243.88526613,1764550.00499971 L 1098245.57090118,1764550.33383106 L 1098247.75144672,1764550.53228889 L 1098250.24778047,1764550.67560773 L 1098254.53337613,1764550.91039392 L 1098257.4818671,1764550.84269752 L 1098257.34773586,1764540.371587 L 1098260.81344934,1764541.25965743 L 1098270.65558567,1764541.32682709 L 1098271.04785195,1764544.82020224 L 1098272.39600657,1764544.85890366 L 1098272.59524789,1764543.79916143 L 1098272.41581212,1764541.35586001 L 1098272.66106359,1764541.40161873 L 1098271.29358484,1764529.53582227 L 1098272.35493554,1764529.50013197 L 1098272.76857081,1764528.1517367 L 1098272.83454928,1764527.24091973 L 1098272.9965738,1764525.54472429 L 1098272.26298121,1764517.71491344 L 1098272.21050597,1764516.37935602 L 1098273.55053592,1764516.23096733 L 1098272.59966996,1764506.27321518 L 1098273.15147921,1764497.55531422 L 1098273.3958922,1764496.1583286 L 1098274.6635258,1764495.58090765 L 1098274.92436051,1764494.67708247 L 1098275.69045983,1764493.81501065 L 1098275.08578293,1764488.33274303 L 1098274.71649152,1764480.86945984 L 1098277.33123803,1764481.04959013 L 1098277.9962023,1764479.87202352 L 1098289.72505602,1764481.30191846 L 1098290.77481103,1764478.96147879 L 1098290.86158801,1764471.48820252 L 1098299.47024753,1764471.60141451 L 1098306.30885372,1764471.67444514 L 1098305.94019091,1764474.97716783 L 1098306.07341594,1764476.848866 L 1098305.66842488,1764477.11359589 L 1098304.4090992,1764478.97290609 L 1098303.21393592,1764483.29474367 L 1098302.60629495,1764483.66934029 L 1098302.31331363,1764484.90860937 L 1098305.25976336,1764484.97385622 L 1098306.95123403,1764484.98783548 L 1098307.52228099,1764484.26174214 L 1098310.71808805,1764484.36581201 L 1098313.69588312,1764484.60350826 L 1098314.20997339,1764484.5914072 L 1098318.91461567,1764485.66447332 L 1098318.95069144,1764481.62277925 L 1098316.28495958,1764477.21065299 L 1098315.32824168,1764474.40447934 L 1098314.73086404,1764472.15772128 L 1098315.24793068,1764471.88671408 L 1098323.53271303,1764468.61058158 L 1098326.2187445,1764467.33907674 L 1098328.81613765,1764466.11020242 L 1098329.54478291,1764466.64529523 L 1098331.66555615,1764465.20213964 L 1098333.24373773,1764464.12958067 L 1098335.45658797,1764462.41988896 L 1098335.69234504,1764462.2375442 L 1098336.01292765,1764461.47960943 L 1098336.72791611,1764461.40660554 L 1098337.35452544,1764461.29425142 L 1098339.64737711,1764460.88554661 L 1098342.17063433,1764457.45294316 L 1098345.38414402,1764453.08411628 L 1098349.74130506,1764447.42209665 L 1098351.55951056,1764446.99610418 L 1098352.77166451,1764446.58080054 L 1098352.95458561,1764446.51862183 L 1098354.83013023,1764445.87455065 L 1098355.85641746,1764445.7783327 L 1098363.03712756,1764449.29097828 L 1098364.23363707,1764449.82925709 L 1098365.33779983,1764450.32612512 L 1098368.27304966,1764451.90191887 L 1098369.60484176,1764452.48526732 L 1098373.77995979,1764454.31505879 L 1098377.98347748,1764456.57420677 L 1098383.29490981,1764458.17449526 L 1098381.5131549,1764463.32317013 L 1098383.55418246,1764464.3383326 L 1098378.80213181,1764475.92218663 L 1098376.64259702,1764475.91801591 L 1098375.06737313,1764474.91000702 L 1098365.39116031,1764473.02272652 L 1098357.07020511,1764470.5163786 L 1098355.4651444,1764469.95382869 L 1098354.6524652,1764470.26828711 L 1098343.22582263,1764482.62247161 L 1098342.72337375,1764482.07185611 L 1098342.39286329,1764482.49969976 L 1098341.9636401,1764485.18860672 L 1098343.02228806,1764490.99278895 L 1098343.39843681,1764493.84303686 L 1098345.85940799,1764494.79166235 L 1098359.62484245,1764496.48479223 L 1098358.22062292,1764505.17460743 L 1098358.67243754,1764519.1129568 L 1098358.2247399,1764529.64512223 L 1098359.68273411,1764529.4325575 L 1098360.02920831,1764540.52981696 L 1098358.38374231,1764541.4263748 L 1098359.64979241,1764559.83140133 L 1098361.58312573,1764560.24202249 L 1098365.50720983,1764560.31928506 L 1098370.60565013,1764560.03365408 L 1098375.57084622,1764559.44003358 L 1098382.86397883,1764558.69220058 L 1098382.83796924,1764558.49783716 L 1098385.68728682,1764558.96351833 L 1098385.68887789,1764558.07870715 L 1098390.52289971,1764558.66985156 L 1098398.26492743,1764558.76975641 L 1098398.91558008,1764559.50061518 z\" /></g></svg>",
      "text/plain": [
       "<shapely.geometry.polygon.Polygon at 0x1eed8359310>"
      ]
     },
     "execution_count": 43,
     "metadata": {},
     "output_type": "execute_result"
    }
   ],
   "source": [
    "df['geometry'][2]"
   ]
  },
  {
   "cell_type": "code",
   "execution_count": null,
   "metadata": {},
   "outputs": [],
   "source": []
  }
 ],
 "metadata": {
  "kernelspec": {
   "display_name": "Python 3.9.12 ('base')",
   "language": "python",
   "name": "python3"
  },
  "language_info": {
   "codemirror_mode": {
    "name": "ipython",
    "version": 3
   },
   "file_extension": ".py",
   "mimetype": "text/x-python",
   "name": "python",
   "nbconvert_exporter": "python",
   "pygments_lexer": "ipython3",
   "version": "3.9.12"
  },
  "orig_nbformat": 4,
  "vscode": {
   "interpreter": {
    "hash": "ad2bdc8ecc057115af97d19610ffacc2b4e99fae6737bb82f5d7fb13d2f2c186"
   }
  }
 },
 "nbformat": 4,
 "nbformat_minor": 2
}
